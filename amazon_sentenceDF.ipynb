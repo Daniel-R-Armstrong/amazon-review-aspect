{
 "cells": [
  {
   "cell_type": "code",
   "execution_count": 11,
   "metadata": {
    "collapsed": true
   },
   "outputs": [],
   "source": [
    "import pandas as pd\n",
    "from spacy.en import English\n",
    "nlp = English()"
   ]
  },
  {
   "cell_type": "code",
   "execution_count": 2,
   "metadata": {
    "collapsed": true
   },
   "outputs": [],
   "source": [
    "reviewDF = pd.read_csv('reviewDf_laptop.csv')"
   ]
  },
  {
   "cell_type": "code",
   "execution_count": 3,
   "metadata": {
    "collapsed": false
   },
   "outputs": [
    {
     "data": {
      "text/html": [
       "<div>\n",
       "<table border=\"1\" class=\"dataframe\">\n",
       "  <thead>\n",
       "    <tr style=\"text-align: right;\">\n",
       "      <th></th>\n",
       "      <th>Unnamed: 0</th>\n",
       "      <th>index</th>\n",
       "      <th>reviewerName</th>\n",
       "      <th>summary</th>\n",
       "      <th>reviewerID</th>\n",
       "      <th>reviewTime</th>\n",
       "      <th>overall</th>\n",
       "      <th>helpful</th>\n",
       "      <th>asin</th>\n",
       "      <th>reviewText</th>\n",
       "      <th>unixReviewTime</th>\n",
       "    </tr>\n",
       "  </thead>\n",
       "  <tbody>\n",
       "    <tr>\n",
       "      <th>0</th>\n",
       "      <td>0</td>\n",
       "      <td>35889</td>\n",
       "      <td>Ada</td>\n",
       "      <td>Mailbug</td>\n",
       "      <td>AD9G1QUJKR8U2</td>\n",
       "      <td>10 18, 2011</td>\n",
       "      <td>5</td>\n",
       "      <td>[2, 2]</td>\n",
       "      <td>B00004LMEC</td>\n",
       "      <td>This product has proven to be a communication ...</td>\n",
       "      <td>1318896000</td>\n",
       "    </tr>\n",
       "    <tr>\n",
       "      <th>1</th>\n",
       "      <td>1</td>\n",
       "      <td>35890</td>\n",
       "      <td>Badger \"Tulsa Reader\"</td>\n",
       "      <td>Landel is Trying to Help</td>\n",
       "      <td>A27MQSANLBDE0T</td>\n",
       "      <td>01 22, 2001</td>\n",
       "      <td>2</td>\n",
       "      <td>[12, 12]</td>\n",
       "      <td>B00004LMEC</td>\n",
       "      <td>I gave this product 1 star based on problems I...</td>\n",
       "      <td>980121600</td>\n",
       "    </tr>\n",
       "    <tr>\n",
       "      <th>2</th>\n",
       "      <td>2</td>\n",
       "      <td>35891</td>\n",
       "      <td>Barbara J. Fox \"Barb Fox\"</td>\n",
       "      <td>Great Email Device!</td>\n",
       "      <td>A2VT8A611WOAJA</td>\n",
       "      <td>06 6, 2008</td>\n",
       "      <td>4</td>\n",
       "      <td>[3, 3]</td>\n",
       "      <td>B00004LMEC</td>\n",
       "      <td>I've had this MailBug Email device now for qui...</td>\n",
       "      <td>1212710400</td>\n",
       "    </tr>\n",
       "    <tr>\n",
       "      <th>3</th>\n",
       "      <td>3</td>\n",
       "      <td>35892</td>\n",
       "      <td>Bemidjiguy</td>\n",
       "      <td>Well done</td>\n",
       "      <td>A23QK89C1J0B6G</td>\n",
       "      <td>02 23, 2006</td>\n",
       "      <td>5</td>\n",
       "      <td>[11, 11]</td>\n",
       "      <td>B00004LMEC</td>\n",
       "      <td>We bought the Mailbug for my ninety year old m...</td>\n",
       "      <td>1140652800</td>\n",
       "    </tr>\n",
       "    <tr>\n",
       "      <th>4</th>\n",
       "      <td>4</td>\n",
       "      <td>35893</td>\n",
       "      <td>BigD</td>\n",
       "      <td>QA Problem</td>\n",
       "      <td>A3INFHZ89R0GR9</td>\n",
       "      <td>11 10, 2010</td>\n",
       "      <td>3</td>\n",
       "      <td>[0, 0]</td>\n",
       "      <td>B00004LMEC</td>\n",
       "      <td>Product was easy to set up and use, but had tr...</td>\n",
       "      <td>1289347200</td>\n",
       "    </tr>\n",
       "  </tbody>\n",
       "</table>\n",
       "</div>"
      ],
      "text/plain": [
       "   Unnamed: 0  index               reviewerName                   summary  \\\n",
       "0           0  35889                        Ada                   Mailbug   \n",
       "1           1  35890      Badger \"Tulsa Reader\"  Landel is Trying to Help   \n",
       "2           2  35891  Barbara J. Fox \"Barb Fox\"       Great Email Device!   \n",
       "3           3  35892                 Bemidjiguy                 Well done   \n",
       "4           4  35893                       BigD                QA Problem   \n",
       "\n",
       "       reviewerID   reviewTime  overall   helpful        asin  \\\n",
       "0   AD9G1QUJKR8U2  10 18, 2011        5    [2, 2]  B00004LMEC   \n",
       "1  A27MQSANLBDE0T  01 22, 2001        2  [12, 12]  B00004LMEC   \n",
       "2  A2VT8A611WOAJA   06 6, 2008        4    [3, 3]  B00004LMEC   \n",
       "3  A23QK89C1J0B6G  02 23, 2006        5  [11, 11]  B00004LMEC   \n",
       "4  A3INFHZ89R0GR9  11 10, 2010        3    [0, 0]  B00004LMEC   \n",
       "\n",
       "                                          reviewText  unixReviewTime  \n",
       "0  This product has proven to be a communication ...      1318896000  \n",
       "1  I gave this product 1 star based on problems I...       980121600  \n",
       "2  I've had this MailBug Email device now for qui...      1212710400  \n",
       "3  We bought the Mailbug for my ninety year old m...      1140652800  \n",
       "4  Product was easy to set up and use, but had tr...      1289347200  "
      ]
     },
     "execution_count": 3,
     "metadata": {},
     "output_type": "execute_result"
    }
   ],
   "source": [
    "reviewDF.head()"
   ]
  },
  {
   "cell_type": "code",
   "execution_count": 96,
   "metadata": {
    "collapsed": true
   },
   "outputs": [],
   "source": [
    "df = reviewDF"
   ]
  },
  {
   "cell_type": "code",
   "execution_count": 112,
   "metadata": {
    "collapsed": true
   },
   "outputs": [],
   "source": [
    "sentences = []\n",
    "sentenceIDs = []\n",
    "reviewIDs = []\n",
    "asins = []"
   ]
  },
  {
   "cell_type": "code",
   "execution_count": 113,
   "metadata": {
    "collapsed": false
   },
   "outputs": [],
   "source": [
    "for r in zip(df['index'], df['asin'], df['reviewText']):\n",
    "    if type(r[2])==str:\n",
    "        doc = nlp(r[2])\n",
    "        new_sentences = list(map(lambda x: x.text.strip(), doc.sents))\n",
    "        sentence_num = len(new_sentences) \n",
    "        sentenceIDs += list(range(sentence_num))\n",
    "        reviewIDs += sentence_num * [r[0]]\n",
    "        asins += sentence_num *[r[1]]\n",
    "        sentences += new_sentences"
   ]
  },
  {
   "cell_type": "code",
   "execution_count": 114,
   "metadata": {
    "collapsed": false
   },
   "outputs": [],
   "source": [
    "resultDF= pd.DataFrame(columns = ['asin', 'reviewID', 'sentenceID', 'sentence'])"
   ]
  },
  {
   "cell_type": "code",
   "execution_count": 115,
   "metadata": {
    "collapsed": true
   },
   "outputs": [],
   "source": [
    "resultDF['asin'] = asins"
   ]
  },
  {
   "cell_type": "code",
   "execution_count": 116,
   "metadata": {
    "collapsed": true
   },
   "outputs": [],
   "source": [
    "resultDF['reviewID'] = reviewIDs"
   ]
  },
  {
   "cell_type": "code",
   "execution_count": 117,
   "metadata": {
    "collapsed": true
   },
   "outputs": [],
   "source": [
    "resultDF['sentenceID'] = sentenceIDs"
   ]
  },
  {
   "cell_type": "code",
   "execution_count": 118,
   "metadata": {
    "collapsed": false
   },
   "outputs": [
    {
     "data": {
      "text/plain": [
       "1045212"
      ]
     },
     "execution_count": 118,
     "metadata": {},
     "output_type": "execute_result"
    }
   ],
   "source": [
    "len(asins)"
   ]
  },
  {
   "cell_type": "code",
   "execution_count": 119,
   "metadata": {
    "collapsed": false
   },
   "outputs": [
    {
     "data": {
      "text/plain": [
       "1045212"
      ]
     },
     "execution_count": 119,
     "metadata": {},
     "output_type": "execute_result"
    }
   ],
   "source": [
    "len(sentenceIDs)"
   ]
  },
  {
   "cell_type": "code",
   "execution_count": 120,
   "metadata": {
    "collapsed": false
   },
   "outputs": [
    {
     "data": {
      "text/plain": [
       "1045212"
      ]
     },
     "execution_count": 120,
     "metadata": {},
     "output_type": "execute_result"
    }
   ],
   "source": [
    "len(sentences)"
   ]
  },
  {
   "cell_type": "code",
   "execution_count": 121,
   "metadata": {
    "collapsed": false
   },
   "outputs": [
    {
     "data": {
      "text/html": [
       "<div>\n",
       "<table border=\"1\" class=\"dataframe\">\n",
       "  <thead>\n",
       "    <tr style=\"text-align: right;\">\n",
       "      <th></th>\n",
       "      <th>asin</th>\n",
       "      <th>reviewID</th>\n",
       "      <th>sentenceID</th>\n",
       "      <th>sentence</th>\n",
       "    </tr>\n",
       "  </thead>\n",
       "  <tbody>\n",
       "    <tr>\n",
       "      <th>0</th>\n",
       "      <td>B00004LMEC</td>\n",
       "      <td>35889</td>\n",
       "      <td>0</td>\n",
       "      <td>NaN</td>\n",
       "    </tr>\n",
       "    <tr>\n",
       "      <th>1</th>\n",
       "      <td>B00004LMEC</td>\n",
       "      <td>35889</td>\n",
       "      <td>1</td>\n",
       "      <td>NaN</td>\n",
       "    </tr>\n",
       "    <tr>\n",
       "      <th>2</th>\n",
       "      <td>B00004LMEC</td>\n",
       "      <td>35889</td>\n",
       "      <td>2</td>\n",
       "      <td>NaN</td>\n",
       "    </tr>\n",
       "    <tr>\n",
       "      <th>3</th>\n",
       "      <td>B00004LMEC</td>\n",
       "      <td>35889</td>\n",
       "      <td>3</td>\n",
       "      <td>NaN</td>\n",
       "    </tr>\n",
       "    <tr>\n",
       "      <th>4</th>\n",
       "      <td>B00004LMEC</td>\n",
       "      <td>35889</td>\n",
       "      <td>4</td>\n",
       "      <td>NaN</td>\n",
       "    </tr>\n",
       "  </tbody>\n",
       "</table>\n",
       "</div>"
      ],
      "text/plain": [
       "         asin  reviewID  sentenceID sentence\n",
       "0  B00004LMEC     35889           0      NaN\n",
       "1  B00004LMEC     35889           1      NaN\n",
       "2  B00004LMEC     35889           2      NaN\n",
       "3  B00004LMEC     35889           3      NaN\n",
       "4  B00004LMEC     35889           4      NaN"
      ]
     },
     "execution_count": 121,
     "metadata": {},
     "output_type": "execute_result"
    }
   ],
   "source": [
    "resultDF.head()"
   ]
  },
  {
   "cell_type": "code",
   "execution_count": 123,
   "metadata": {
    "collapsed": false
   },
   "outputs": [],
   "source": [
    "resultDF['sentence'] = sentences"
   ]
  },
  {
   "cell_type": "code",
   "execution_count": 126,
   "metadata": {
    "collapsed": false
   },
   "outputs": [
    {
     "data": {
      "text/plain": [
       "asin          1045212\n",
       "reviewID      1045212\n",
       "sentenceID    1045212\n",
       "sentence      1045212\n",
       "dtype: int64"
      ]
     },
     "execution_count": 126,
     "metadata": {},
     "output_type": "execute_result"
    }
   ],
   "source": [
    "resultDF.count()"
   ]
  },
  {
   "cell_type": "code",
   "execution_count": 42,
   "metadata": {
    "collapsed": false
   },
   "outputs": [],
   "source": [
    "resultDF.to_csv('amazon_sentenceDF.csv')"
   ]
  }
 ],
 "metadata": {
  "kernelspec": {
   "display_name": "Python 3",
   "language": "python",
   "name": "python3"
  },
  "language_info": {
   "codemirror_mode": {
    "name": "ipython",
    "version": 3
   },
   "file_extension": ".py",
   "mimetype": "text/x-python",
   "name": "python",
   "nbconvert_exporter": "python",
   "pygments_lexer": "ipython3",
   "version": "3.5.1"
  }
 },
 "nbformat": 4,
 "nbformat_minor": 0
}
