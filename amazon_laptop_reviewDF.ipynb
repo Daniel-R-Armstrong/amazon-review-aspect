{
 "cells": [
  {
   "cell_type": "code",
   "execution_count": 1,
   "metadata": {
    "collapsed": true
   },
   "outputs": [],
   "source": [
    "import pandas as pd\n",
    "import gzip\n",
    "\n",
    "def parse(path):\n",
    "  g = gzip.open(path, 'rb')\n",
    "  for l in g:\n",
    "    yield eval(l)\n",
    "\n",
    "def getDF(path):\n",
    "  i = 0\n",
    "  df = {}\n",
    "  for d in parse(path):\n",
    "    df[i] = d\n",
    "    i += 1\n",
    "  return pd.DataFrame.from_dict(df, orient='index')"
   ]
  },
  {
   "cell_type": "code",
   "execution_count": null,
   "metadata": {
    "collapsed": true
   },
   "outputs": [],
   "source": [
    "# amazon product data: http://jmcauley.ucsd.edu/data/amazon/"
   ]
  },
  {
   "cell_type": "code",
   "execution_count": 3,
   "metadata": {
    "collapsed": true
   },
   "outputs": [],
   "source": [
    "reviewDf = getDF('reviews_Electronics.json.gz')"
   ]
  },
  {
   "cell_type": "code",
   "execution_count": null,
   "metadata": {
    "collapsed": false
   },
   "outputs": [],
   "source": [
    "reviewDf.head()"
   ]
  },
  {
   "cell_type": "code",
   "execution_count": 4,
   "metadata": {
    "collapsed": true
   },
   "outputs": [],
   "source": [
    "metaDf = getDF('meta_Electronics.json.gz')"
   ]
  },
  {
   "cell_type": "code",
   "execution_count": 7,
   "metadata": {
    "collapsed": false
   },
   "outputs": [
    {
     "data": {
      "text/html": [
       "<div>\n",
       "<table border=\"1\" class=\"dataframe\">\n",
       "  <thead>\n",
       "    <tr style=\"text-align: right;\">\n",
       "      <th></th>\n",
       "      <th>asin</th>\n",
       "      <th>categories</th>\n",
       "      <th>imUrl</th>\n",
       "      <th>title</th>\n",
       "      <th>description</th>\n",
       "      <th>salesRank</th>\n",
       "      <th>related</th>\n",
       "      <th>price</th>\n",
       "      <th>brand</th>\n",
       "    </tr>\n",
       "  </thead>\n",
       "  <tbody>\n",
       "    <tr>\n",
       "      <th>0</th>\n",
       "      <td>0132793040</td>\n",
       "      <td>[[Electronics, Computers &amp; Accessories, Cables...</td>\n",
       "      <td>http://ecx.images-amazon.com/images/I/31JIPhp%...</td>\n",
       "      <td>Kelby Training DVD: Mastering Blend Modes in A...</td>\n",
       "      <td>The Kelby Training DVD Mastering Blend Modes i...</td>\n",
       "      <td>NaN</td>\n",
       "      <td>NaN</td>\n",
       "      <td>NaN</td>\n",
       "      <td>NaN</td>\n",
       "    </tr>\n",
       "    <tr>\n",
       "      <th>1</th>\n",
       "      <td>0321732944</td>\n",
       "      <td>[[Electronics, Computers &amp; Accessories, Cables...</td>\n",
       "      <td>http://ecx.images-amazon.com/images/I/31uogm6Y...</td>\n",
       "      <td>Kelby Training DVD: Adobe Photoshop CS5 Crash ...</td>\n",
       "      <td>NaN</td>\n",
       "      <td>NaN</td>\n",
       "      <td>NaN</td>\n",
       "      <td>NaN</td>\n",
       "      <td>NaN</td>\n",
       "    </tr>\n",
       "    <tr>\n",
       "      <th>2</th>\n",
       "      <td>0439886341</td>\n",
       "      <td>[[Electronics, Computers &amp; Accessories, PDAs, ...</td>\n",
       "      <td>http://ecx.images-amazon.com/images/I/51k0qa8f...</td>\n",
       "      <td>Digital Organizer and Messenger</td>\n",
       "      <td>Digital Organizer and Messenger</td>\n",
       "      <td>{'Electronics': 144944}</td>\n",
       "      <td>{'also_viewed': ['0545016266', 'B009ECM8QY', '...</td>\n",
       "      <td>8.15</td>\n",
       "      <td>NaN</td>\n",
       "    </tr>\n",
       "    <tr>\n",
       "      <th>3</th>\n",
       "      <td>0511189877</td>\n",
       "      <td>[[Electronics, Accessories &amp; Supplies, Audio &amp;...</td>\n",
       "      <td>http://ecx.images-amazon.com/images/I/41HaAhbv...</td>\n",
       "      <td>CLIKR-5 Time Warner Cable Remote Control UR5U-...</td>\n",
       "      <td>The CLIKR-5 UR5U-8780L remote control is desig...</td>\n",
       "      <td>NaN</td>\n",
       "      <td>{'also_viewed': ['B001KC08A4', 'B00KUL8O0W', '...</td>\n",
       "      <td>23.36</td>\n",
       "      <td>NaN</td>\n",
       "    </tr>\n",
       "    <tr>\n",
       "      <th>4</th>\n",
       "      <td>0528881469</td>\n",
       "      <td>[[Electronics, GPS &amp; Navigation, Vehicle GPS, ...</td>\n",
       "      <td>http://ecx.images-amazon.com/images/I/51FnRkJq...</td>\n",
       "      <td>Rand McNally 528881469 7-inch Intelliroute TND...</td>\n",
       "      <td>Like its award-winning predecessor, the Intell...</td>\n",
       "      <td>NaN</td>\n",
       "      <td>{'also_viewed': ['B006ZOI9OY', 'B00C7FKT2A', '...</td>\n",
       "      <td>299.99</td>\n",
       "      <td>NaN</td>\n",
       "    </tr>\n",
       "  </tbody>\n",
       "</table>\n",
       "</div>"
      ],
      "text/plain": [
       "         asin                                         categories  \\\n",
       "0  0132793040  [[Electronics, Computers & Accessories, Cables...   \n",
       "1  0321732944  [[Electronics, Computers & Accessories, Cables...   \n",
       "2  0439886341  [[Electronics, Computers & Accessories, PDAs, ...   \n",
       "3  0511189877  [[Electronics, Accessories & Supplies, Audio &...   \n",
       "4  0528881469  [[Electronics, GPS & Navigation, Vehicle GPS, ...   \n",
       "\n",
       "                                               imUrl  \\\n",
       "0  http://ecx.images-amazon.com/images/I/31JIPhp%...   \n",
       "1  http://ecx.images-amazon.com/images/I/31uogm6Y...   \n",
       "2  http://ecx.images-amazon.com/images/I/51k0qa8f...   \n",
       "3  http://ecx.images-amazon.com/images/I/41HaAhbv...   \n",
       "4  http://ecx.images-amazon.com/images/I/51FnRkJq...   \n",
       "\n",
       "                                               title  \\\n",
       "0  Kelby Training DVD: Mastering Blend Modes in A...   \n",
       "1  Kelby Training DVD: Adobe Photoshop CS5 Crash ...   \n",
       "2                    Digital Organizer and Messenger   \n",
       "3  CLIKR-5 Time Warner Cable Remote Control UR5U-...   \n",
       "4  Rand McNally 528881469 7-inch Intelliroute TND...   \n",
       "\n",
       "                                         description                salesRank  \\\n",
       "0  The Kelby Training DVD Mastering Blend Modes i...                      NaN   \n",
       "1                                                NaN                      NaN   \n",
       "2                    Digital Organizer and Messenger  {'Electronics': 144944}   \n",
       "3  The CLIKR-5 UR5U-8780L remote control is desig...                      NaN   \n",
       "4  Like its award-winning predecessor, the Intell...                      NaN   \n",
       "\n",
       "                                             related   price brand  \n",
       "0                                                NaN     NaN   NaN  \n",
       "1                                                NaN     NaN   NaN  \n",
       "2  {'also_viewed': ['0545016266', 'B009ECM8QY', '...    8.15   NaN  \n",
       "3  {'also_viewed': ['B001KC08A4', 'B00KUL8O0W', '...   23.36   NaN  \n",
       "4  {'also_viewed': ['B006ZOI9OY', 'B00C7FKT2A', '...  299.99   NaN  "
      ]
     },
     "execution_count": 7,
     "metadata": {},
     "output_type": "execute_result"
    }
   ],
   "source": [
    "metaDf.head()"
   ]
  },
  {
   "cell_type": "code",
   "execution_count": 68,
   "metadata": {
    "collapsed": false
   },
   "outputs": [
    {
     "data": {
      "text/plain": [
       "asin           498196\n",
       "categories     498196\n",
       "imUrl          498021\n",
       "title          491194\n",
       "description    459470\n",
       "salesRank      128706\n",
       "related        366959\n",
       "price          389693\n",
       "brand          142532\n",
       "dtype: int64"
      ]
     },
     "execution_count": 68,
     "metadata": {},
     "output_type": "execute_result"
    }
   ],
   "source": [
    "metaDf.count()"
   ]
  },
  {
   "cell_type": "code",
   "execution_count": 5,
   "metadata": {
    "collapsed": false
   },
   "outputs": [],
   "source": [
    "metaDf['categories_t'] = metaDf[\"categories\"].apply(lambda x: tuple(x[0]))"
   ]
  },
  {
   "cell_type": "code",
   "execution_count": 7,
   "metadata": {
    "collapsed": true
   },
   "outputs": [],
   "source": [
    "laptop_cat=('Electronics',\n",
    " 'Computers & Accessories',\n",
    " 'Cables & Accessories',\n",
    " 'Laptops')"
   ]
  },
  {
   "cell_type": "code",
   "execution_count": 59,
   "metadata": {
    "collapsed": false
   },
   "outputs": [],
   "source": [
    "metaDf['categories']=metaDf['categories'].apply(tuple)"
   ]
  },
  {
   "cell_type": "code",
   "execution_count": 78,
   "metadata": {
    "collapsed": false,
    "scrolled": false
   },
   "outputs": [
    {
     "data": {
      "text/plain": [
       "(Electronics, Computers & Accessories, Touch Screen Tablet Accessories, Cases & Sleeves, Cases)                                                         25647\n",
       "(Electronics, Computers & Accessories, Laptop & Netbook Computer Accessories, Batteries)                                                                16495\n",
       "(Electronics, Computers & Accessories, Laptop & Netbook Computer Accessories, Chargers & Adapters)                                                      15271\n",
       "(Electronics, Accessories & Supplies, Audio & Video Accessories, Headphones)                                                                            11577\n",
       "(Electronics, Portable Audio & Video, MP3 Players & Accessories, MP3 Player Accessories, Cases)                                                         11136\n",
       "(Electronics, Computers & Accessories, Laptops)                                                                                                          9471\n",
       "(Electronics, Camera & Photo, Bags & Cases, Camera Cases)                                                                                                9059\n",
       "(Electronics, Computers & Accessories, Laptop & Netbook Computer Accessories, Bags & Cases, Sleeves & Slipcases)                                         6994\n",
       "(Electronics, Computers & Accessories, Computer Components, Memory)                                                                                      6845\n",
       "(Electronics, Camera & Photo, Accessories, Batteries & Chargers, Batteries, Camera Batteries)                                                            6647\n",
       "(Electronics, Computers & Accessories, Cables & Accessories, Cables & Interconnects, USB Cables)                                                         6370\n",
       "(Electronics, Accessories & Supplies, Batteries, Chargers & Accessories, AC Adapters)                                                                    5845\n",
       "(Electronics, Computers & Accessories, Data Storage, USB Flash Drives)                                                                                   5405\n",
       "(Electronics, Computers & Accessories, Cables & Accessories, Keyboards)                                                                                  4872\n",
       "(Electronics, Computers & Accessories)                                                                                                                   4674\n",
       "(Electronics, Accessories & Supplies, Audio & Video Accessories, Cables & Interconnects, Video Cables, HDMI Cables)                                      4649\n",
       "(Electronics, Camera & Photo, Digital Cameras, Point & Shoot Digital Cameras)                                                                            4479\n",
       "(Electronics, Computers & Accessories, Cables & Accessories, Video Projector Accessories, Lamps)                                                         4293\n",
       "(Electronics, Computers & Accessories, Touch Screen Tablet Accessories, Screen Protectors)                                                               4242\n",
       "(Electronics, Camera & Photo, Accessories, Digital Camera Accessories, Accessory Kits)                                                                   4056\n",
       "(Electronics, Portable Audio & Video, MP3 Players & Accessories, MP3 Players)                                                                            4029\n",
       "(Electronics, Computers & Accessories, Cables & Accessories, Mice)                                                                                       4011\n",
       "(Electronics, Computers & Accessories, Desktops)                                                                                                         3942\n",
       "(Electronics, Portable Audio & Video, MP3 Players & Accessories, MP3 Player Accessories, Speaker Systems)                                                3850\n",
       "(Electronics, Accessories & Supplies, Audio & Video Accessories, Connectors & Adapters)                                                                  3829\n",
       "(Electronics, Computers & Accessories, Monitors)                                                                                                         3798\n",
       "(Electronics, Computers & Accessories, Laptop & Netbook Computer Accessories, Replacement Screens)                                                       3748\n",
       "(Electronics, Camera & Photo, Accessories, Batteries & Chargers, Battery Chargers, Camera)                                                               3693\n",
       "(Electronics, eBook Readers & Accessories, Covers)                                                                                                       3678\n",
       "(Electronics, Computers & Accessories, Computer Components, Graphics Cards)                                                                              3548\n",
       "                                                                                                                                                        ...  \n",
       "(Electronics, Car & Vehicle Electronics, Vehicle Electronics Accessories, Vehicle Audio & Video Installation, Amplifier Installation, Noise Filters)        1\n",
       "(Baby Products, Feeding, Pacifiers & Accessories, Leashes & Cases)                                                                                          1\n",
       "(Electronics, Accessories & Supplies, Office Electronics Accessories, Presentation Supplies)                                                                1\n",
       "(Electronics, Car & Vehicle Electronics, Aviation Electronics, Aviation Charts)                                                                             1\n",
       "(Electronics, Camera & Photo, Video Surveillance, Surveillance Accessories)                                                                                 1\n",
       "(Automotive, Replacement Parts, Belts, Hoses & Pulleys, Belts, Timing Belt Kits)                                                                            1\n",
       "(Books, Reference, Foreign Language Study & Reference, Foreign Language Dictionaries & Thesauruses)                                                         1\n",
       "(Electronics, Car & Vehicle Electronics, Marine Electronics, Marine Subwoofers)                                                                             1\n",
       "(Electronics, Camera & Photo, Accessories, Darkroom Supplies, Light Boxes & Loupes)                                                                         1\n",
       "(Automotive, Replacement Parts, Filters, Air Filters & Accessories, Air Filters)                                                                            1\n",
       "(CDs & Vinyl, Pop, Adult Contemporary)                                                                                                                      1\n",
       "(Clothing, Shoes & Jewelry, Luggage & Travel Gear)                                                                                                          1\n",
       "(Books, Crafts, Hobbies & Home)                                                                                                                             1\n",
       "(Electronics, Accessories & Supplies, Audio & Video Accessories, Speaker Parts & Components, Unfinished Hi-Fi Cabinets)                                     1\n",
       "(Electronics, Cell Phones & Accessories)                                                                                                                    1\n",
       "(Electronics, Car & Vehicle Electronics, Marine Electronics, Marine Amplifiers)                                                                             1\n",
       "(Arts, Crafts & Sewing, Craft Supplies, Purse Making)                                                                                                       1\n",
       "(Electronics, Accessories & Supplies, Audio & Video Accessories, Speaker Parts & Components, Laminate)                                                      1\n",
       "(Automotive, Interior Accessories, Consoles & Organizers, Visor Accessories)                                                                                1\n",
       "(Beauty, Hair Care, Styling Tools, Irons, Flattening Irons)                                                                                                 1\n",
       "(Electronics, Computers & Accessories, Warranties & Services, Service Plans, Computer Add-Ons)                                                              1\n",
       "(Automotive, Motorcycle & Powersports, Protective Gear, Helmet Accessories, Helmet Communication)                                                           1\n",
       "(Books, Science & Math, Earth Sciences, Environmental Science)                                                                                              1\n",
       "(Electronics, Camera & Photo, Accessories, Rain Covers)                                                                                                     1\n",
       "(Electronics, Television & Video, HD DVD Players)                                                                                                           1\n",
       "(Electronics, Portable Audio & Video, Accessories)                                                                                                          1\n",
       "(Baby Products, Nursery, Bedding, Pillowcases)                                                                                                              1\n",
       "(Electronics, Computers & Accessories, Warranties & Services, Installation Services)                                                                        1\n",
       "(Electronics, Camera & Photo, Lighting & Studio, Lighting, Lighting Controls & Modifiers, Gobos)                                                            1\n",
       "(Electronics, Accessories & Supplies, Audio & Video Accessories, Speaker Parts & Components, Speaker Sealant)                                               1\n",
       "Name: categories_t, dtype: int64"
      ]
     },
     "execution_count": 78,
     "metadata": {},
     "output_type": "execute_result"
    }
   ],
   "source": [
    "metaDf.categories_t.value_counts()"
   ]
  },
  {
   "cell_type": "code",
   "execution_count": 8,
   "metadata": {
    "collapsed": false
   },
   "outputs": [],
   "source": [
    "laptop_cat = ('Electronics', 'Computers & Accessories', 'Laptops')"
   ]
  },
  {
   "cell_type": "code",
   "execution_count": 9,
   "metadata": {
    "collapsed": false
   },
   "outputs": [],
   "source": [
    "laptop_metaDf=metaDf[metaDf.categories_t==laptop_cat]"
   ]
  },
  {
   "cell_type": "code",
   "execution_count": 10,
   "metadata": {
    "collapsed": false
   },
   "outputs": [
    {
     "data": {
      "text/plain": [
       "title           9467\n",
       "asin            9471\n",
       "description     8815\n",
       "categories      9471\n",
       "imUrl           9471\n",
       "salesRank        689\n",
       "price           4106\n",
       "related         6012\n",
       "brand           1023\n",
       "categories_t    9471\n",
       "dtype: int64"
      ]
     },
     "execution_count": 10,
     "metadata": {},
     "output_type": "execute_result"
    }
   ],
   "source": [
    "laptop_metaDf.count()"
   ]
  },
  {
   "cell_type": "code",
   "execution_count": 21,
   "metadata": {
    "collapsed": true
   },
   "outputs": [],
   "source": [
    "laptop_metaDf.to_csv('laptop_metaDf.csv')"
   ]
  },
  {
   "cell_type": "code",
   "execution_count": 87,
   "metadata": {
    "collapsed": false
   },
   "outputs": [
    {
     "data": {
      "text/html": [
       "<div>\n",
       "<table border=\"1\" class=\"dataframe\">\n",
       "  <thead>\n",
       "    <tr style=\"text-align: right;\">\n",
       "      <th></th>\n",
       "      <th>asin</th>\n",
       "      <th>categories</th>\n",
       "      <th>imUrl</th>\n",
       "      <th>title</th>\n",
       "      <th>description</th>\n",
       "      <th>salesRank</th>\n",
       "      <th>related</th>\n",
       "      <th>price</th>\n",
       "      <th>brand</th>\n",
       "      <th>categories_t</th>\n",
       "    </tr>\n",
       "  </thead>\n",
       "  <tbody>\n",
       "    <tr>\n",
       "      <th>2826</th>\n",
       "      <td>B00004LMEC</td>\n",
       "      <td>[[Electronics, Computers &amp; Accessories, Laptops]]</td>\n",
       "      <td>http://ecx.images-amazon.com/images/I/41XC36N4...</td>\n",
       "      <td>Landel MailBug Email Appliance (LT-302W)</td>\n",
       "      <td>If you'd like to send and receive e-mail but d...</td>\n",
       "      <td>{'Electronics': 8569}</td>\n",
       "      <td>{'also_viewed': ['B000JERC8A', 'B00FNPD1VW', '...</td>\n",
       "      <td>99</td>\n",
       "      <td>NaN</td>\n",
       "      <td>(Electronics, Computers &amp; Accessories, Laptops)</td>\n",
       "    </tr>\n",
       "    <tr>\n",
       "      <th>6891</th>\n",
       "      <td>B00005IA5C</td>\n",
       "      <td>[[Electronics, Computers &amp; Accessories, Laptops]]</td>\n",
       "      <td>http://ecx.images-amazon.com/images/I/41T6RXA5...</td>\n",
       "      <td>Apple Powerbook Laptop (400-MHz PowerPC G4, 12...</td>\n",
       "      <td>While this PowerBook model can't compare to it...</td>\n",
       "      <td>NaN</td>\n",
       "      <td>NaN</td>\n",
       "      <td>NaN</td>\n",
       "      <td>NaN</td>\n",
       "      <td>(Electronics, Computers &amp; Accessories, Laptops)</td>\n",
       "    </tr>\n",
       "    <tr>\n",
       "      <th>7208</th>\n",
       "      <td>B00005LE4P</td>\n",
       "      <td>[[Electronics, Computers &amp; Accessories, Laptops]]</td>\n",
       "      <td>http://ecx.images-amazon.com/images/I/51GD4P50...</td>\n",
       "      <td>ThinkPad T22 2647 - PIII 900 MHz - RAM 128 MB ...</td>\n",
       "      <td>Whether you're looking for a notebook for busi...</td>\n",
       "      <td>{'Computers &amp; Accessories': 37073}</td>\n",
       "      <td>NaN</td>\n",
       "      <td>NaN</td>\n",
       "      <td>NaN</td>\n",
       "      <td>(Electronics, Computers &amp; Accessories, Laptops)</td>\n",
       "    </tr>\n",
       "    <tr>\n",
       "      <th>7464</th>\n",
       "      <td>B00005NBIT</td>\n",
       "      <td>[[Electronics, Computers &amp; Accessories, Laptops]]</td>\n",
       "      <td>http://ecx.images-amazon.com/images/I/41M4E0SP...</td>\n",
       "      <td>Apple iBook Laptop (500-MHz PowerPC G3, 64 MB ...</td>\n",
       "      <td>The iBook is an elegant, highly portable noteb...</td>\n",
       "      <td>NaN</td>\n",
       "      <td>{'also_viewed': ['B0000U9H40', 'B000LMDX7Y', '...</td>\n",
       "      <td>179</td>\n",
       "      <td>NaN</td>\n",
       "      <td>(Electronics, Computers &amp; Accessories, Laptops)</td>\n",
       "    </tr>\n",
       "    <tr>\n",
       "      <th>7466</th>\n",
       "      <td>B00005NBJB</td>\n",
       "      <td>[[Electronics, Computers &amp; Accessories, Laptops]]</td>\n",
       "      <td>http://ecx.images-amazon.com/images/I/41AWKZGR...</td>\n",
       "      <td>Apple iBook Laptop (500-MHz PowerPC G3, 128 MB...</td>\n",
       "      <td>This model of Apple's new iBook line offers mu...</td>\n",
       "      <td>NaN</td>\n",
       "      <td>NaN</td>\n",
       "      <td>NaN</td>\n",
       "      <td>NaN</td>\n",
       "      <td>(Electronics, Computers &amp; Accessories, Laptops)</td>\n",
       "    </tr>\n",
       "  </tbody>\n",
       "</table>\n",
       "</div>"
      ],
      "text/plain": [
       "            asin                                         categories  \\\n",
       "2826  B00004LMEC  [[Electronics, Computers & Accessories, Laptops]]   \n",
       "6891  B00005IA5C  [[Electronics, Computers & Accessories, Laptops]]   \n",
       "7208  B00005LE4P  [[Electronics, Computers & Accessories, Laptops]]   \n",
       "7464  B00005NBIT  [[Electronics, Computers & Accessories, Laptops]]   \n",
       "7466  B00005NBJB  [[Electronics, Computers & Accessories, Laptops]]   \n",
       "\n",
       "                                                  imUrl  \\\n",
       "2826  http://ecx.images-amazon.com/images/I/41XC36N4...   \n",
       "6891  http://ecx.images-amazon.com/images/I/41T6RXA5...   \n",
       "7208  http://ecx.images-amazon.com/images/I/51GD4P50...   \n",
       "7464  http://ecx.images-amazon.com/images/I/41M4E0SP...   \n",
       "7466  http://ecx.images-amazon.com/images/I/41AWKZGR...   \n",
       "\n",
       "                                                  title  \\\n",
       "2826           Landel MailBug Email Appliance (LT-302W)   \n",
       "6891  Apple Powerbook Laptop (400-MHz PowerPC G4, 12...   \n",
       "7208  ThinkPad T22 2647 - PIII 900 MHz - RAM 128 MB ...   \n",
       "7464  Apple iBook Laptop (500-MHz PowerPC G3, 64 MB ...   \n",
       "7466  Apple iBook Laptop (500-MHz PowerPC G3, 128 MB...   \n",
       "\n",
       "                                            description  \\\n",
       "2826  If you'd like to send and receive e-mail but d...   \n",
       "6891  While this PowerBook model can't compare to it...   \n",
       "7208  Whether you're looking for a notebook for busi...   \n",
       "7464  The iBook is an elegant, highly portable noteb...   \n",
       "7466  This model of Apple's new iBook line offers mu...   \n",
       "\n",
       "                               salesRank  \\\n",
       "2826               {'Electronics': 8569}   \n",
       "6891                                 NaN   \n",
       "7208  {'Computers & Accessories': 37073}   \n",
       "7464                                 NaN   \n",
       "7466                                 NaN   \n",
       "\n",
       "                                                related  price brand  \\\n",
       "2826  {'also_viewed': ['B000JERC8A', 'B00FNPD1VW', '...     99   NaN   \n",
       "6891                                                NaN    NaN   NaN   \n",
       "7208                                                NaN    NaN   NaN   \n",
       "7464  {'also_viewed': ['B0000U9H40', 'B000LMDX7Y', '...    179   NaN   \n",
       "7466                                                NaN    NaN   NaN   \n",
       "\n",
       "                                         categories_t  \n",
       "2826  (Electronics, Computers & Accessories, Laptops)  \n",
       "6891  (Electronics, Computers & Accessories, Laptops)  \n",
       "7208  (Electronics, Computers & Accessories, Laptops)  \n",
       "7464  (Electronics, Computers & Accessories, Laptops)  \n",
       "7466  (Electronics, Computers & Accessories, Laptops)  "
      ]
     },
     "execution_count": 87,
     "metadata": {},
     "output_type": "execute_result"
    }
   ],
   "source": [
    "laptop_metaDf.head()"
   ]
  },
  {
   "cell_type": "code",
   "execution_count": 37,
   "metadata": {
    "collapsed": false
   },
   "outputs": [
    {
     "data": {
      "text/plain": [
       "2826    If you'd like to send and receive e-mail but d...\n",
       "Name: description, dtype: object"
      ]
     },
     "execution_count": 37,
     "metadata": {},
     "output_type": "execute_result"
    }
   ],
   "source": [
    "laptop_metaDf.description[:1]"
   ]
  },
  {
   "cell_type": "code",
   "execution_count": 38,
   "metadata": {
    "collapsed": false
   },
   "outputs": [
    {
     "data": {
      "text/plain": [
       "2826    Landel MailBug Email Appliance (LT-302W)\n",
       "Name: title, dtype: object"
      ]
     },
     "execution_count": 38,
     "metadata": {},
     "output_type": "execute_result"
    }
   ],
   "source": [
    "laptop_metaDf.title[:1]"
   ]
  },
  {
   "cell_type": "code",
   "execution_count": 11,
   "metadata": {
    "collapsed": false
   },
   "outputs": [],
   "source": [
    "laptop_asin_list = laptop_metaDf.asin.tolist()"
   ]
  },
  {
   "cell_type": "code",
   "execution_count": 12,
   "metadata": {
    "collapsed": false
   },
   "outputs": [],
   "source": [
    "reviewDf_laptop=reviewDf.loc[reviewDf['asin'].isin(laptop_asin_list)]"
   ]
  },
  {
   "cell_type": "code",
   "execution_count": 92,
   "metadata": {
    "collapsed": false
   },
   "outputs": [
    {
     "data": {
      "text/html": [
       "<div>\n",
       "<table border=\"1\" class=\"dataframe\">\n",
       "  <thead>\n",
       "    <tr style=\"text-align: right;\">\n",
       "      <th></th>\n",
       "      <th>reviewerName</th>\n",
       "      <th>helpful</th>\n",
       "      <th>overall</th>\n",
       "      <th>reviewerID</th>\n",
       "      <th>asin</th>\n",
       "      <th>reviewText</th>\n",
       "      <th>summary</th>\n",
       "      <th>reviewTime</th>\n",
       "      <th>unixReviewTime</th>\n",
       "    </tr>\n",
       "  </thead>\n",
       "  <tbody>\n",
       "    <tr>\n",
       "      <th>35889</th>\n",
       "      <td>Ada</td>\n",
       "      <td>[2, 2]</td>\n",
       "      <td>5</td>\n",
       "      <td>AD9G1QUJKR8U2</td>\n",
       "      <td>B00004LMEC</td>\n",
       "      <td>This product has proven to be a communication ...</td>\n",
       "      <td>Mailbug</td>\n",
       "      <td>10 18, 2011</td>\n",
       "      <td>1318896000</td>\n",
       "    </tr>\n",
       "    <tr>\n",
       "      <th>35890</th>\n",
       "      <td>Badger \"Tulsa Reader\"</td>\n",
       "      <td>[12, 12]</td>\n",
       "      <td>2</td>\n",
       "      <td>A27MQSANLBDE0T</td>\n",
       "      <td>B00004LMEC</td>\n",
       "      <td>I gave this product 1 star based on problems I...</td>\n",
       "      <td>Landel is Trying to Help</td>\n",
       "      <td>01 22, 2001</td>\n",
       "      <td>980121600</td>\n",
       "    </tr>\n",
       "    <tr>\n",
       "      <th>35891</th>\n",
       "      <td>Barbara J. Fox \"Barb Fox\"</td>\n",
       "      <td>[3, 3]</td>\n",
       "      <td>4</td>\n",
       "      <td>A2VT8A611WOAJA</td>\n",
       "      <td>B00004LMEC</td>\n",
       "      <td>I've had this MailBug Email device now for qui...</td>\n",
       "      <td>Great Email Device!</td>\n",
       "      <td>06 6, 2008</td>\n",
       "      <td>1212710400</td>\n",
       "    </tr>\n",
       "    <tr>\n",
       "      <th>35892</th>\n",
       "      <td>Bemidjiguy</td>\n",
       "      <td>[11, 11]</td>\n",
       "      <td>5</td>\n",
       "      <td>A23QK89C1J0B6G</td>\n",
       "      <td>B00004LMEC</td>\n",
       "      <td>We bought the Mailbug for my ninety year old m...</td>\n",
       "      <td>Well done</td>\n",
       "      <td>02 23, 2006</td>\n",
       "      <td>1140652800</td>\n",
       "    </tr>\n",
       "    <tr>\n",
       "      <th>35893</th>\n",
       "      <td>BigD</td>\n",
       "      <td>[0, 0]</td>\n",
       "      <td>3</td>\n",
       "      <td>A3INFHZ89R0GR9</td>\n",
       "      <td>B00004LMEC</td>\n",
       "      <td>Product was easy to set up and use, but had tr...</td>\n",
       "      <td>QA Problem</td>\n",
       "      <td>11 10, 2010</td>\n",
       "      <td>1289347200</td>\n",
       "    </tr>\n",
       "  </tbody>\n",
       "</table>\n",
       "</div>"
      ],
      "text/plain": [
       "                    reviewerName   helpful  overall      reviewerID  \\\n",
       "35889                        Ada    [2, 2]        5   AD9G1QUJKR8U2   \n",
       "35890      Badger \"Tulsa Reader\"  [12, 12]        2  A27MQSANLBDE0T   \n",
       "35891  Barbara J. Fox \"Barb Fox\"    [3, 3]        4  A2VT8A611WOAJA   \n",
       "35892                 Bemidjiguy  [11, 11]        5  A23QK89C1J0B6G   \n",
       "35893                       BigD    [0, 0]        3  A3INFHZ89R0GR9   \n",
       "\n",
       "             asin                                         reviewText  \\\n",
       "35889  B00004LMEC  This product has proven to be a communication ...   \n",
       "35890  B00004LMEC  I gave this product 1 star based on problems I...   \n",
       "35891  B00004LMEC  I've had this MailBug Email device now for qui...   \n",
       "35892  B00004LMEC  We bought the Mailbug for my ninety year old m...   \n",
       "35893  B00004LMEC  Product was easy to set up and use, but had tr...   \n",
       "\n",
       "                        summary   reviewTime  unixReviewTime  \n",
       "35889                   Mailbug  10 18, 2011      1318896000  \n",
       "35890  Landel is Trying to Help  01 22, 2001       980121600  \n",
       "35891       Great Email Device!   06 6, 2008      1212710400  \n",
       "35892                 Well done  02 23, 2006      1140652800  \n",
       "35893                QA Problem  11 10, 2010      1289347200  "
      ]
     },
     "execution_count": 92,
     "metadata": {},
     "output_type": "execute_result"
    }
   ],
   "source": [
    "reviewDf_laptop.head()"
   ]
  },
  {
   "cell_type": "code",
   "execution_count": 13,
   "metadata": {
    "collapsed": true
   },
   "outputs": [],
   "source": [
    "reviewDf_laptop.reset_index(inplace=True)"
   ]
  },
  {
   "cell_type": "code",
   "execution_count": 94,
   "metadata": {
    "collapsed": false
   },
   "outputs": [
    {
     "data": {
      "text/html": [
       "<div>\n",
       "<table border=\"1\" class=\"dataframe\">\n",
       "  <thead>\n",
       "    <tr style=\"text-align: right;\">\n",
       "      <th></th>\n",
       "      <th>index</th>\n",
       "      <th>reviewerName</th>\n",
       "      <th>helpful</th>\n",
       "      <th>overall</th>\n",
       "      <th>reviewerID</th>\n",
       "      <th>asin</th>\n",
       "      <th>reviewText</th>\n",
       "      <th>summary</th>\n",
       "      <th>reviewTime</th>\n",
       "      <th>unixReviewTime</th>\n",
       "    </tr>\n",
       "  </thead>\n",
       "  <tbody>\n",
       "    <tr>\n",
       "      <th>0</th>\n",
       "      <td>35889</td>\n",
       "      <td>Ada</td>\n",
       "      <td>[2, 2]</td>\n",
       "      <td>5</td>\n",
       "      <td>AD9G1QUJKR8U2</td>\n",
       "      <td>B00004LMEC</td>\n",
       "      <td>This product has proven to be a communication ...</td>\n",
       "      <td>Mailbug</td>\n",
       "      <td>10 18, 2011</td>\n",
       "      <td>1318896000</td>\n",
       "    </tr>\n",
       "    <tr>\n",
       "      <th>1</th>\n",
       "      <td>35890</td>\n",
       "      <td>Badger \"Tulsa Reader\"</td>\n",
       "      <td>[12, 12]</td>\n",
       "      <td>2</td>\n",
       "      <td>A27MQSANLBDE0T</td>\n",
       "      <td>B00004LMEC</td>\n",
       "      <td>I gave this product 1 star based on problems I...</td>\n",
       "      <td>Landel is Trying to Help</td>\n",
       "      <td>01 22, 2001</td>\n",
       "      <td>980121600</td>\n",
       "    </tr>\n",
       "    <tr>\n",
       "      <th>2</th>\n",
       "      <td>35891</td>\n",
       "      <td>Barbara J. Fox \"Barb Fox\"</td>\n",
       "      <td>[3, 3]</td>\n",
       "      <td>4</td>\n",
       "      <td>A2VT8A611WOAJA</td>\n",
       "      <td>B00004LMEC</td>\n",
       "      <td>I've had this MailBug Email device now for qui...</td>\n",
       "      <td>Great Email Device!</td>\n",
       "      <td>06 6, 2008</td>\n",
       "      <td>1212710400</td>\n",
       "    </tr>\n",
       "    <tr>\n",
       "      <th>3</th>\n",
       "      <td>35892</td>\n",
       "      <td>Bemidjiguy</td>\n",
       "      <td>[11, 11]</td>\n",
       "      <td>5</td>\n",
       "      <td>A23QK89C1J0B6G</td>\n",
       "      <td>B00004LMEC</td>\n",
       "      <td>We bought the Mailbug for my ninety year old m...</td>\n",
       "      <td>Well done</td>\n",
       "      <td>02 23, 2006</td>\n",
       "      <td>1140652800</td>\n",
       "    </tr>\n",
       "    <tr>\n",
       "      <th>4</th>\n",
       "      <td>35893</td>\n",
       "      <td>BigD</td>\n",
       "      <td>[0, 0]</td>\n",
       "      <td>3</td>\n",
       "      <td>A3INFHZ89R0GR9</td>\n",
       "      <td>B00004LMEC</td>\n",
       "      <td>Product was easy to set up and use, but had tr...</td>\n",
       "      <td>QA Problem</td>\n",
       "      <td>11 10, 2010</td>\n",
       "      <td>1289347200</td>\n",
       "    </tr>\n",
       "  </tbody>\n",
       "</table>\n",
       "</div>"
      ],
      "text/plain": [
       "   index               reviewerName   helpful  overall      reviewerID  \\\n",
       "0  35889                        Ada    [2, 2]        5   AD9G1QUJKR8U2   \n",
       "1  35890      Badger \"Tulsa Reader\"  [12, 12]        2  A27MQSANLBDE0T   \n",
       "2  35891  Barbara J. Fox \"Barb Fox\"    [3, 3]        4  A2VT8A611WOAJA   \n",
       "3  35892                 Bemidjiguy  [11, 11]        5  A23QK89C1J0B6G   \n",
       "4  35893                       BigD    [0, 0]        3  A3INFHZ89R0GR9   \n",
       "\n",
       "         asin                                         reviewText  \\\n",
       "0  B00004LMEC  This product has proven to be a communication ...   \n",
       "1  B00004LMEC  I gave this product 1 star based on problems I...   \n",
       "2  B00004LMEC  I've had this MailBug Email device now for qui...   \n",
       "3  B00004LMEC  We bought the Mailbug for my ninety year old m...   \n",
       "4  B00004LMEC  Product was easy to set up and use, but had tr...   \n",
       "\n",
       "                    summary   reviewTime  unixReviewTime  \n",
       "0                   Mailbug  10 18, 2011      1318896000  \n",
       "1  Landel is Trying to Help  01 22, 2001       980121600  \n",
       "2       Great Email Device!   06 6, 2008      1212710400  \n",
       "3                 Well done  02 23, 2006      1140652800  \n",
       "4                QA Problem  11 10, 2010      1289347200  "
      ]
     },
     "execution_count": 94,
     "metadata": {},
     "output_type": "execute_result"
    }
   ],
   "source": [
    "reviewDf_laptop.head()"
   ]
  },
  {
   "cell_type": "code",
   "execution_count": 22,
   "metadata": {
    "collapsed": true
   },
   "outputs": [],
   "source": [
    "reviewDf_laptop.to_csv('reviewDf_laptop.csv')"
   ]
  },
  {
   "cell_type": "code",
   "execution_count": 95,
   "metadata": {
    "collapsed": false,
    "scrolled": true
   },
   "outputs": [
    {
     "data": {
      "text/plain": [
       "B009LL9VDG    4580\n",
       "B00FNPD1VW    1607\n",
       "B0074703CM    1026\n",
       "B009F1I1C4     657\n",
       "B008FH1R0M     462\n",
       "B00746YHV6     452\n",
       "B00FGOTA6K     395\n",
       "B005CWIVYI     394\n",
       "B005CWJB5G     383\n",
       "B00FJXVRM8     332\n",
       "B00AG0BLWU     319\n",
       "B00D78PZE8     312\n",
       "B00FNPD1OY     308\n",
       "B00AM7MM4I     302\n",
       "B003GSLU3E     300\n",
       "B008HDOEG8     295\n",
       "B009F1JL5A     294\n",
       "B00GSEOV7U     293\n",
       "B00863L2M8     277\n",
       "B00CU2K6MS     272\n",
       "B0013FNZ1M     268\n",
       "B001P05NKG     262\n",
       "B00FCK20SI     258\n",
       "B007471PZQ     257\n",
       "B00HRO3IBA     254\n",
       "B004Z6NWAU     254\n",
       "B003NE5K50     252\n",
       "B00BJ8C02I     251\n",
       "B007Y8DJ22     248\n",
       "B009OV18SE     243\n",
       "              ... \n",
       "B006MX0WAW       1\n",
       "B00ATANUSK       1\n",
       "B007DKWMSS       1\n",
       "B004M8GVN6       1\n",
       "B009ZBVEQE       1\n",
       "B008RTG2TO       1\n",
       "B009ZFXBNE       1\n",
       "B008PO7EGQ       1\n",
       "B009QHMTGQ       1\n",
       "B001F50THS       1\n",
       "B005DVQL2M       1\n",
       "B000A7QIQI       1\n",
       "B00AW4O0M8       1\n",
       "B00EFE0NSG       1\n",
       "B00J87PJTS       1\n",
       "B000EY5DFE       1\n",
       "B004ELR0RC       1\n",
       "B00266FZHY       1\n",
       "B0052LB2JK       1\n",
       "B007JWE6C0       1\n",
       "B003I7KTVW       1\n",
       "B004HTYQ7I       1\n",
       "B008FKQI4E       1\n",
       "B0049OMSW6       1\n",
       "B00HA1S2HU       1\n",
       "B002BBARKO       1\n",
       "B00GK6GROQ       1\n",
       "B004Z2G9EA       1\n",
       "B003ODMDAK       1\n",
       "B003E2TZOS       1\n",
       "Name: asin, dtype: int64"
      ]
     },
     "execution_count": 95,
     "metadata": {},
     "output_type": "execute_result"
    }
   ],
   "source": [
    "reviewDf_laptop.asin.value_counts()"
   ]
  },
  {
   "cell_type": "code",
   "execution_count": 31,
   "metadata": {
    "collapsed": false
   },
   "outputs": [
    {
     "data": {
      "text/plain": [
       "index             115138\n",
       "reviewerName      112013\n",
       "summary           115138\n",
       "reviewerID        115138\n",
       "reviewTime        115138\n",
       "overall           115138\n",
       "helpful           115138\n",
       "asin              115138\n",
       "reviewText        115138\n",
       "unixReviewTime    115138\n",
       "dtype: int64"
      ]
     },
     "execution_count": 31,
     "metadata": {},
     "output_type": "execute_result"
    }
   ],
   "source": [
    "reviewDf_laptop.count()"
   ]
  },
  {
   "cell_type": "code",
   "execution_count": 29,
   "metadata": {
    "collapsed": false
   },
   "outputs": [
    {
     "data": {
      "text/html": [
       "<div>\n",
       "<table border=\"1\" class=\"dataframe\">\n",
       "  <thead>\n",
       "    <tr style=\"text-align: right;\">\n",
       "      <th></th>\n",
       "      <th>index</th>\n",
       "      <th>reviewerName</th>\n",
       "      <th>summary</th>\n",
       "      <th>reviewerID</th>\n",
       "      <th>reviewTime</th>\n",
       "      <th>overall</th>\n",
       "      <th>helpful</th>\n",
       "      <th>asin</th>\n",
       "      <th>reviewText</th>\n",
       "      <th>unixReviewTime</th>\n",
       "    </tr>\n",
       "  </thead>\n",
       "  <tbody>\n",
       "    <tr>\n",
       "      <th>0</th>\n",
       "      <td>35889</td>\n",
       "      <td>Ada</td>\n",
       "      <td>Mailbug</td>\n",
       "      <td>AD9G1QUJKR8U2</td>\n",
       "      <td>10 18, 2011</td>\n",
       "      <td>5</td>\n",
       "      <td>[2, 2]</td>\n",
       "      <td>B00004LMEC</td>\n",
       "      <td>This product has proven to be a communication ...</td>\n",
       "      <td>1318896000</td>\n",
       "    </tr>\n",
       "    <tr>\n",
       "      <th>1</th>\n",
       "      <td>35890</td>\n",
       "      <td>Badger \"Tulsa Reader\"</td>\n",
       "      <td>Landel is Trying to Help</td>\n",
       "      <td>A27MQSANLBDE0T</td>\n",
       "      <td>01 22, 2001</td>\n",
       "      <td>2</td>\n",
       "      <td>[12, 12]</td>\n",
       "      <td>B00004LMEC</td>\n",
       "      <td>I gave this product 1 star based on problems I...</td>\n",
       "      <td>980121600</td>\n",
       "    </tr>\n",
       "    <tr>\n",
       "      <th>2</th>\n",
       "      <td>35891</td>\n",
       "      <td>Barbara J. Fox \"Barb Fox\"</td>\n",
       "      <td>Great Email Device!</td>\n",
       "      <td>A2VT8A611WOAJA</td>\n",
       "      <td>06 6, 2008</td>\n",
       "      <td>4</td>\n",
       "      <td>[3, 3]</td>\n",
       "      <td>B00004LMEC</td>\n",
       "      <td>I've had this MailBug Email device now for qui...</td>\n",
       "      <td>1212710400</td>\n",
       "    </tr>\n",
       "    <tr>\n",
       "      <th>3</th>\n",
       "      <td>35892</td>\n",
       "      <td>Bemidjiguy</td>\n",
       "      <td>Well done</td>\n",
       "      <td>A23QK89C1J0B6G</td>\n",
       "      <td>02 23, 2006</td>\n",
       "      <td>5</td>\n",
       "      <td>[11, 11]</td>\n",
       "      <td>B00004LMEC</td>\n",
       "      <td>We bought the Mailbug for my ninety year old m...</td>\n",
       "      <td>1140652800</td>\n",
       "    </tr>\n",
       "    <tr>\n",
       "      <th>4</th>\n",
       "      <td>35893</td>\n",
       "      <td>BigD</td>\n",
       "      <td>QA Problem</td>\n",
       "      <td>A3INFHZ89R0GR9</td>\n",
       "      <td>11 10, 2010</td>\n",
       "      <td>3</td>\n",
       "      <td>[0, 0]</td>\n",
       "      <td>B00004LMEC</td>\n",
       "      <td>Product was easy to set up and use, but had tr...</td>\n",
       "      <td>1289347200</td>\n",
       "    </tr>\n",
       "  </tbody>\n",
       "</table>\n",
       "</div>"
      ],
      "text/plain": [
       "   index               reviewerName                   summary      reviewerID  \\\n",
       "0  35889                        Ada                   Mailbug   AD9G1QUJKR8U2   \n",
       "1  35890      Badger \"Tulsa Reader\"  Landel is Trying to Help  A27MQSANLBDE0T   \n",
       "2  35891  Barbara J. Fox \"Barb Fox\"       Great Email Device!  A2VT8A611WOAJA   \n",
       "3  35892                 Bemidjiguy                 Well done  A23QK89C1J0B6G   \n",
       "4  35893                       BigD                QA Problem  A3INFHZ89R0GR9   \n",
       "\n",
       "    reviewTime  overall   helpful        asin  \\\n",
       "0  10 18, 2011        5    [2, 2]  B00004LMEC   \n",
       "1  01 22, 2001        2  [12, 12]  B00004LMEC   \n",
       "2   06 6, 2008        4    [3, 3]  B00004LMEC   \n",
       "3  02 23, 2006        5  [11, 11]  B00004LMEC   \n",
       "4  11 10, 2010        3    [0, 0]  B00004LMEC   \n",
       "\n",
       "                                          reviewText  unixReviewTime  \n",
       "0  This product has proven to be a communication ...      1318896000  \n",
       "1  I gave this product 1 star based on problems I...       980121600  \n",
       "2  I've had this MailBug Email device now for qui...      1212710400  \n",
       "3  We bought the Mailbug for my ninety year old m...      1140652800  \n",
       "4  Product was easy to set up and use, but had tr...      1289347200  "
      ]
     },
     "execution_count": 29,
     "metadata": {},
     "output_type": "execute_result"
    }
   ],
   "source": [
    "reviewDf_laptop.head()"
   ]
  },
  {
   "cell_type": "code",
   "execution_count": 97,
   "metadata": {
    "collapsed": false
   },
   "outputs": [
    {
     "data": {
      "text/plain": [
       "9150"
      ]
     },
     "execution_count": 97,
     "metadata": {},
     "output_type": "execute_result"
    }
   ],
   "source": [
    "reviewDf_laptop.asin.unique().size"
   ]
  },
  {
   "cell_type": "code",
   "execution_count": 14,
   "metadata": {
    "collapsed": false
   },
   "outputs": [],
   "source": [
    "most_popular_laptop_reviewDf = reviewDf_laptop[reviewDf_laptop.asin=='B009LL9VDG']"
   ]
  },
  {
   "cell_type": "code",
   "execution_count": 23,
   "metadata": {
    "collapsed": true
   },
   "outputs": [],
   "source": [
    "most_popular_laptop_reviewDf.to_csv('most_popular_laptop_reviewDf.csv')"
   ]
  },
  {
   "cell_type": "code",
   "execution_count": 111,
   "metadata": {
    "collapsed": false
   },
   "outputs": [
    {
     "data": {
      "text/plain": [
       "72536    After a little over a week of the chromebook u...\n",
       "72537    After another PC crashed from web use I decide...\n",
       "72538    After reading the reviews I decided to get one...\n",
       "72539    After using my Chromebook for several weeks I ...\n",
       "72540    A good buy the laptop is worth the price and i...\n",
       "72541    A great computer for kids use in school. Small...\n",
       "72542    A great device for the money. I have used one ...\n",
       "72543    A great device. I learned about Google apps an...\n",
       "72544    All that this computer can do it access the Go...\n",
       "72545    All though it took me a while to get used to g...\n",
       "72546    Almost immediate start-up upon opening the scr...\n",
       "72547    Although some may doubt its' usefulness as a l...\n",
       "72548    Although we really liked these little Chromebo...\n",
       "72549    Amazing laptop for children since virus protec...\n",
       "72550    Amazon Prime Instant Videos stopped playing.Ho...\n",
       "72551    And, I seem to be unable to connect a printer ...\n",
       "72552    An economical perfect fit for my needs, and at...\n",
       "72553    Any person I showed the Chromebook to that has...\n",
       "72554    As a student this Chrome book is awesome. It d...\n",
       "72555    As I learn more how to use it I probably give ...\n",
       "72556    As of right now, the Chromebook has been a dre...\n",
       "72557    As you all probably know, this chromebook is r...\n",
       "72558    At $200, the Samsung Chromebook represents a s...\n",
       "72559    At half the weight of my Dell laptop, not incl...\n",
       "72560    At work, I need a powerful PC to do my job. Bu...\n",
       "72561    a very good product.  Very good for a good pri...\n",
       "72562    Awesome computer.  Bought it on a whim but it ...\n",
       "72563    awesome lap top but it does reset randomly a l...\n",
       "72564    awsome i love itlooks and runs as brand new.ne...\n",
       "72565    Bang for the buck.  Great for browsing and Pin...\n",
       "                               ...                        \n",
       "77086    I bought this for my better half thinking that...\n",
       "77087    I like the concept of using the web for applic...\n",
       "77088    Rare nowadays is a product that performs as ad...\n",
       "77089    Unlike the windows machines I've been using, t...\n",
       "77090    Just recently bought a windows 8 computer.  an...\n",
       "77091    I ordered and received my Chromebook several m...\n",
       "77092    I did my research about this laptop before i b...\n",
       "77093    I wanted a device mainly for blogging, social ...\n",
       "77094    I like how light it is, but I'm already having...\n",
       "77095    The computer itself is a great value. I have n...\n",
       "77096    I was looking into getting a laptop and ended ...\n",
       "77097    I got this time within one day. The delivery i...\n",
       "77098    I have owned this Samsung Chromebook for quite...\n",
       "77099    I love this laptop. The chrome book is really ...\n",
       "77100    In a nutshell, yes. I'm a HUGE Apple supporter...\n",
       "77101    Review Update #2 (latest):--------------------...\n",
       "77102    This laptop is great, especially if you are a ...\n",
       "77103    Bought this for my daughter for her to do her ...\n",
       "77104    Perfect computer for someone who doesn't want ...\n",
       "77105    I am very satisfied with my Samsung Chromebook...\n",
       "77106    After much research I finally got the Samsung ...\n",
       "77107    I love using the Chrome OS and the Chrome brow...\n",
       "77108    I started grad school last year and my HP pavi...\n",
       "77109    We got this for my spouse's use. I was worried...\n",
       "77110    this product is great, i use this for online b...\n",
       "77111    you get way more than you pay for with this ch...\n",
       "77112    ......with this Chromebook and have never been...\n",
       "77113    Exactly what I expected.  I use this in my cla...\n",
       "77114    A few days ago I was going to give this 5 star...\n",
       "77115    I took this out of the box and was amazed at h...\n",
       "Name: reviewText, dtype: object"
      ]
     },
     "execution_count": 111,
     "metadata": {},
     "output_type": "execute_result"
    }
   ],
   "source": [
    "most_popular_laptop_reviewDf.reviewText"
   ]
  }
 ],
 "metadata": {
  "kernelspec": {
   "display_name": "Python 3",
   "language": "python",
   "name": "python3"
  },
  "language_info": {
   "codemirror_mode": {
    "name": "ipython",
    "version": 3
   },
   "file_extension": ".py",
   "mimetype": "text/x-python",
   "name": "python",
   "nbconvert_exporter": "python",
   "pygments_lexer": "ipython3",
   "version": "3.5.1"
  }
 },
 "nbformat": 4,
 "nbformat_minor": 0
}
