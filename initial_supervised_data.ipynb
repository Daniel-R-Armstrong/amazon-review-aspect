{
 "cells": [
  {
   "cell_type": "code",
   "execution_count": null,
   "metadata": {
    "collapsed": true
   },
   "outputs": [],
   "source": [
    "# initial supervised data from: http://alt.qcri.org/semeval2015/task12/"
   ]
  },
  {
   "cell_type": "code",
   "execution_count": null,
   "metadata": {
    "collapsed": true
   },
   "outputs": [],
   "source": [
    "import pandas as pd\n",
    "import xml.etree.ElementTree as ET\n",
    "\n",
    "def getDF(path):\n",
    "    tree = ET.parse(path)\n",
    "    root = tree.getroot()\n",
    "    df = pd.DataFrame(columns=('rid','sid', 'text', 'category_polarity_list'))\n",
    "    reviews = root.getchildren()\n",
    "    rnum = len(reviews)\n",
    "    j=0\n",
    "    k=0\n",
    "    for j in range(0,rnum):\n",
    "        review = reviews[j]\n",
    "        rid = review.attrib['rid']\n",
    "        sentences = review.getchildren()[0]\n",
    "        snum = len(sentences)\n",
    "        for i in range(0,snum):\n",
    "            sentence = sentences[i]\n",
    "            sid = sentence.attrib['id']\n",
    "            text = sentence[0].text\n",
    "            opinions=[]\n",
    "            if len(sentence)>1:\n",
    "                opinions = sentence[1]\n",
    "            category_polarity_list = []\n",
    "            for opinion in opinions:\n",
    "                category = opinion.attrib['category']\n",
    "                polarity = opinion.attrib['polarity']\n",
    "                category_polarity_list.append((category, polarity))\n",
    "            row = dict(zip(['rid','sid', 'text', 'category_polarity_list'], [rid, sid, text, category_polarity_list]))\n",
    "            row_s = pd.Series(row)\n",
    "            row_s.name = k\n",
    "            df = df.append(row_s)\n",
    "            k +=1\n",
    "\n",
    "    getCategorys = lambda lst: list(map(lambda x: x[0], lst))\n",
    "    df['categorys']  = df['category_polarity_list'].apply(getCategorys)\n",
    "    \n",
    "    getCategoryNum = lambda lst: len(lst)\n",
    "    df['category_num']  = df['categorys'].apply(getCategoryNum)\n",
    "    return df"
   ]
  },
  {
   "cell_type": "code",
   "execution_count": 56,
   "metadata": {
    "collapsed": false
   },
   "outputs": [],
   "source": [
    "trainDF = getDF('ABSA-15_Laptops_Train_Data.xml')\n",
    "testDF = getDF('ABSA15_Laptops_Test.xml')"
   ]
  },
  {
   "cell_type": "code",
   "execution_count": 57,
   "metadata": {
    "collapsed": false
   },
   "outputs": [
    {
     "data": {
      "text/html": [
       "<div>\n",
       "<table border=\"1\" class=\"dataframe\">\n",
       "  <thead>\n",
       "    <tr style=\"text-align: right;\">\n",
       "      <th></th>\n",
       "      <th>rid</th>\n",
       "      <th>sid</th>\n",
       "      <th>text</th>\n",
       "      <th>category_polarity_list</th>\n",
       "      <th>categorys</th>\n",
       "      <th>category_num</th>\n",
       "    </tr>\n",
       "  </thead>\n",
       "  <tbody>\n",
       "    <tr>\n",
       "      <th>0</th>\n",
       "      <td>79</td>\n",
       "      <td>79:0</td>\n",
       "      <td>Being a PC user my whole life....</td>\n",
       "      <td>[]</td>\n",
       "      <td>[]</td>\n",
       "      <td>0</td>\n",
       "    </tr>\n",
       "    <tr>\n",
       "      <th>1</th>\n",
       "      <td>79</td>\n",
       "      <td>79:1</td>\n",
       "      <td>This computer is absolutely AMAZING!!!</td>\n",
       "      <td>[(LAPTOP#GENERAL, positive)]</td>\n",
       "      <td>[LAPTOP#GENERAL]</td>\n",
       "      <td>1</td>\n",
       "    </tr>\n",
       "    <tr>\n",
       "      <th>2</th>\n",
       "      <td>79</td>\n",
       "      <td>79:2</td>\n",
       "      <td>10 plus hours of battery...</td>\n",
       "      <td>[(BATTERY#OPERATION_PERFORMANCE, positive)]</td>\n",
       "      <td>[BATTERY#OPERATION_PERFORMANCE]</td>\n",
       "      <td>1</td>\n",
       "    </tr>\n",
       "    <tr>\n",
       "      <th>3</th>\n",
       "      <td>79</td>\n",
       "      <td>79:3</td>\n",
       "      <td>super fast processor and really nice graphics ...</td>\n",
       "      <td>[(CPU#OPERATION_PERFORMANCE, positive), (GRAPH...</td>\n",
       "      <td>[CPU#OPERATION_PERFORMANCE, GRAPHICS#GENERAL]</td>\n",
       "      <td>2</td>\n",
       "    </tr>\n",
       "    <tr>\n",
       "      <th>4</th>\n",
       "      <td>79</td>\n",
       "      <td>79:4</td>\n",
       "      <td>and plenty of storage with 250 gb(though I wil...</td>\n",
       "      <td>[(HARD_DISC#DESIGN_FEATURES, positive)]</td>\n",
       "      <td>[HARD_DISC#DESIGN_FEATURES]</td>\n",
       "      <td>1</td>\n",
       "    </tr>\n",
       "    <tr>\n",
       "      <th>5</th>\n",
       "      <td>79</td>\n",
       "      <td>79:5</td>\n",
       "      <td>This computer is really fast and I'm shocked a...</td>\n",
       "      <td>[(LAPTOP#OPERATION_PERFORMANCE, positive), (LA...</td>\n",
       "      <td>[LAPTOP#OPERATION_PERFORMANCE, LAPTOP#USABILITY]</td>\n",
       "      <td>2</td>\n",
       "    </tr>\n",
       "    <tr>\n",
       "      <th>6</th>\n",
       "      <td>79</td>\n",
       "      <td>79:6</td>\n",
       "      <td>I've only had mine a day but I'm already used ...</td>\n",
       "      <td>[(LAPTOP#USABILITY, positive)]</td>\n",
       "      <td>[LAPTOP#USABILITY]</td>\n",
       "      <td>1</td>\n",
       "    </tr>\n",
       "    <tr>\n",
       "      <th>7</th>\n",
       "      <td>79</td>\n",
       "      <td>79:7</td>\n",
       "      <td>MACS ARE AMAZING!!!</td>\n",
       "      <td>[]</td>\n",
       "      <td>[]</td>\n",
       "      <td>0</td>\n",
       "    </tr>\n",
       "    <tr>\n",
       "      <th>8</th>\n",
       "      <td>79</td>\n",
       "      <td>79:8</td>\n",
       "      <td>GET THIS COMPUTER FOR PORTABILITY AND FAST PRO...</td>\n",
       "      <td>[(LAPTOP#PORTABILITY, positive), (CPU#OPERATIO...</td>\n",
       "      <td>[LAPTOP#PORTABILITY, CPU#OPERATION_PERFORMANCE]</td>\n",
       "      <td>2</td>\n",
       "    </tr>\n",
       "    <tr>\n",
       "      <th>9</th>\n",
       "      <td>10</td>\n",
       "      <td>10:0</td>\n",
       "      <td>the laptop was really good and it goes really ...</td>\n",
       "      <td>[(LAPTOP#GENERAL, positive), (LAPTOP#OPERATION...</td>\n",
       "      <td>[LAPTOP#GENERAL, LAPTOP#OPERATION_PERFORMANCE]</td>\n",
       "      <td>2</td>\n",
       "    </tr>\n",
       "  </tbody>\n",
       "</table>\n",
       "</div>"
      ],
      "text/plain": [
       "  rid   sid                                               text  \\\n",
       "0  79  79:0                  Being a PC user my whole life....   \n",
       "1  79  79:1             This computer is absolutely AMAZING!!!   \n",
       "2  79  79:2                        10 plus hours of battery...   \n",
       "3  79  79:3  super fast processor and really nice graphics ...   \n",
       "4  79  79:4  and plenty of storage with 250 gb(though I wil...   \n",
       "5  79  79:5  This computer is really fast and I'm shocked a...   \n",
       "6  79  79:6  I've only had mine a day but I'm already used ...   \n",
       "7  79  79:7                                MACS ARE AMAZING!!!   \n",
       "8  79  79:8  GET THIS COMPUTER FOR PORTABILITY AND FAST PRO...   \n",
       "9  10  10:0  the laptop was really good and it goes really ...   \n",
       "\n",
       "                              category_polarity_list  \\\n",
       "0                                                 []   \n",
       "1                       [(LAPTOP#GENERAL, positive)]   \n",
       "2        [(BATTERY#OPERATION_PERFORMANCE, positive)]   \n",
       "3  [(CPU#OPERATION_PERFORMANCE, positive), (GRAPH...   \n",
       "4            [(HARD_DISC#DESIGN_FEATURES, positive)]   \n",
       "5  [(LAPTOP#OPERATION_PERFORMANCE, positive), (LA...   \n",
       "6                     [(LAPTOP#USABILITY, positive)]   \n",
       "7                                                 []   \n",
       "8  [(LAPTOP#PORTABILITY, positive), (CPU#OPERATIO...   \n",
       "9  [(LAPTOP#GENERAL, positive), (LAPTOP#OPERATION...   \n",
       "\n",
       "                                          categorys  category_num  \n",
       "0                                                []             0  \n",
       "1                                  [LAPTOP#GENERAL]             1  \n",
       "2                   [BATTERY#OPERATION_PERFORMANCE]             1  \n",
       "3     [CPU#OPERATION_PERFORMANCE, GRAPHICS#GENERAL]             2  \n",
       "4                       [HARD_DISC#DESIGN_FEATURES]             1  \n",
       "5  [LAPTOP#OPERATION_PERFORMANCE, LAPTOP#USABILITY]             2  \n",
       "6                                [LAPTOP#USABILITY]             1  \n",
       "7                                                []             0  \n",
       "8   [LAPTOP#PORTABILITY, CPU#OPERATION_PERFORMANCE]             2  \n",
       "9    [LAPTOP#GENERAL, LAPTOP#OPERATION_PERFORMANCE]             2  "
      ]
     },
     "execution_count": 57,
     "metadata": {},
     "output_type": "execute_result"
    }
   ],
   "source": [
    "trainDF.head(10)"
   ]
  },
  {
   "cell_type": "code",
   "execution_count": 58,
   "metadata": {
    "collapsed": false
   },
   "outputs": [
    {
     "data": {
      "text/plain": [
       "5"
      ]
     },
     "execution_count": 58,
     "metadata": {},
     "output_type": "execute_result"
    }
   ],
   "source": [
    "trainDF['category_num'].max()"
   ]
  },
  {
   "cell_type": "code",
   "execution_count": 51,
   "metadata": {
    "collapsed": false
   },
   "outputs": [
    {
     "data": {
      "text/plain": [
       "791"
      ]
     },
     "execution_count": 51,
     "metadata": {},
     "output_type": "execute_result"
    }
   ],
   "source": [
    "trainDF['category_num'].argmax()"
   ]
  },
  {
   "cell_type": "code",
   "execution_count": 59,
   "metadata": {
    "collapsed": false
   },
   "outputs": [
    {
     "data": {
      "text/plain": [
       "'I actually had the hard drive replaced twice, the mother board once, the dvd drive twice, then they FINALLY agreed to replace it, (ALL OF THIS IN LESS THAN 1 1/2 YEARS!)only to get another \"HP/Compaq\" piece of crap.'"
      ]
     },
     "execution_count": 59,
     "metadata": {},
     "output_type": "execute_result"
    }
   ],
   "source": [
    "trainDF.ix[791].text"
   ]
  },
  {
   "cell_type": "code",
   "execution_count": 60,
   "metadata": {
    "collapsed": false
   },
   "outputs": [
    {
     "data": {
      "text/plain": [
       "[('HARD_DISC#QUALITY', 'negative'),\n",
       " ('MOTHERBOARD#QUALITY', 'negative'),\n",
       " ('OPTICAL_DRIVES#QUALITY', 'negative'),\n",
       " ('SUPPORT#QUALITY', 'negative'),\n",
       " ('LAPTOP#QUALITY', 'negative')]"
      ]
     },
     "execution_count": 60,
     "metadata": {},
     "output_type": "execute_result"
    }
   ],
   "source": [
    "trainDF.ix[791].category_polarity_list"
   ]
  },
  {
   "cell_type": "code",
   "execution_count": 61,
   "metadata": {
    "collapsed": false
   },
   "outputs": [
    {
     "data": {
      "text/plain": [
       "rid                       1739\n",
       "sid                       1739\n",
       "text                      1739\n",
       "category_polarity_list    1739\n",
       "categorys                 1739\n",
       "category_num              1739\n",
       "dtype: int64"
      ]
     },
     "execution_count": 61,
     "metadata": {},
     "output_type": "execute_result"
    }
   ],
   "source": [
    "trainDF.count()"
   ]
  },
  {
   "cell_type": "code",
   "execution_count": 63,
   "metadata": {
    "collapsed": false
   },
   "outputs": [
    {
     "data": {
      "text/plain": [
       "rid                       761\n",
       "sid                       761\n",
       "text                      761\n",
       "category_polarity_list    761\n",
       "categorys                 761\n",
       "category_num              761\n",
       "dtype: int64"
      ]
     },
     "execution_count": 63,
     "metadata": {},
     "output_type": "execute_result"
    }
   ],
   "source": [
    "testDF.count()"
   ]
  },
  {
   "cell_type": "code",
   "execution_count": 64,
   "metadata": {
    "collapsed": true
   },
   "outputs": [],
   "source": [
    "trainDF.to_csv('sentenceTrainDF.csv')"
   ]
  },
  {
   "cell_type": "code",
   "execution_count": 65,
   "metadata": {
    "collapsed": true
   },
   "outputs": [],
   "source": [
    "testDF.to_csv('sentenceTestDF.csv')"
   ]
  }
 ],
 "metadata": {
  "kernelspec": {
   "display_name": "Python 3",
   "language": "python",
   "name": "python3"
  },
  "language_info": {
   "codemirror_mode": {
    "name": "ipython",
    "version": 3
   },
   "file_extension": ".py",
   "mimetype": "text/x-python",
   "name": "python",
   "nbconvert_exporter": "python",
   "pygments_lexer": "ipython3",
   "version": "3.5.1"
  }
 },
 "nbformat": 4,
 "nbformat_minor": 0
}
