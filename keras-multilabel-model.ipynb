{
 "cells": [
  {
   "cell_type": "code",
   "execution_count": 1,
   "metadata": {
    "collapsed": false
   },
   "outputs": [
    {
     "name": "stderr",
     "output_type": "stream",
     "text": [
      "Using Theano backend.\n"
     ]
    }
   ],
   "source": [
    "\n",
    "from __future__ import print_function\n",
    "import numpy as np\n",
    "np.random.seed(1337)  # for reproducibility\n",
    "\n",
    "from keras.preprocessing import sequence\n",
    "from keras.utils import np_utils\n",
    "from keras.models import Sequential\n",
    "from keras.layers.core import Dense, Dropout, Activation, Masking\n",
    "from keras.layers.embeddings import Embedding\n",
    "from keras.optimizers import Adam\n",
    "\n",
    "batch_size = 32\n"
   ]
  },
  {
   "cell_type": "code",
   "execution_count": 2,
   "metadata": {
    "collapsed": false
   },
   "outputs": [],
   "source": [
    "train_vecs = np.loadtxt('train_vecs_added.txt')"
   ]
  },
  {
   "cell_type": "code",
   "execution_count": 3,
   "metadata": {
    "collapsed": false
   },
   "outputs": [],
   "source": [
    "test_vecs = np.loadtxt('test_vecs.txt')"
   ]
  },
  {
   "cell_type": "code",
   "execution_count": 4,
   "metadata": {
    "collapsed": true
   },
   "outputs": [],
   "source": [
    "y_train = np.loadtxt('y_train_added.txt')"
   ]
  },
  {
   "cell_type": "code",
   "execution_count": 5,
   "metadata": {
    "collapsed": false
   },
   "outputs": [],
   "source": [
    "y_test = np.loadtxt('y_test.txt')"
   ]
  },
  {
   "cell_type": "code",
   "execution_count": 6,
   "metadata": {
    "collapsed": false
   },
   "outputs": [
    {
     "data": {
      "text/plain": [
       "(2239, 830)"
      ]
     },
     "execution_count": 6,
     "metadata": {},
     "output_type": "execute_result"
    }
   ],
   "source": [
    "train_vecs.shape"
   ]
  },
  {
   "cell_type": "code",
   "execution_count": 8,
   "metadata": {
    "collapsed": false
   },
   "outputs": [],
   "source": [
    "X_train = train_vecs"
   ]
  },
  {
   "cell_type": "code",
   "execution_count": 9,
   "metadata": {
    "collapsed": true
   },
   "outputs": [],
   "source": [
    "X_test = test_vecs"
   ]
  },
  {
   "cell_type": "code",
   "execution_count": 10,
   "metadata": {
    "collapsed": false
   },
   "outputs": [
    {
     "data": {
      "text/plain": [
       "(2239, 830)"
      ]
     },
     "execution_count": 10,
     "metadata": {},
     "output_type": "execute_result"
    }
   ],
   "source": [
    "X_train.shape"
   ]
  },
  {
   "cell_type": "code",
   "execution_count": 11,
   "metadata": {
    "collapsed": false
   },
   "outputs": [
    {
     "data": {
      "text/plain": [
       "(761, 830)"
      ]
     },
     "execution_count": 11,
     "metadata": {},
     "output_type": "execute_result"
    }
   ],
   "source": [
    "X_test.shape"
   ]
  },
  {
   "cell_type": "code",
   "execution_count": 19,
   "metadata": {
    "collapsed": false
   },
   "outputs": [
    {
     "name": "stdout",
     "output_type": "stream",
     "text": [
      "Train on 2239 samples, validate on 761 samples\n",
      "Epoch 1/40\n",
      "2239/2239 [==============================] - 2s - loss: 0.2070 - val_loss: 0.2109\n",
      "Epoch 2/40\n",
      "2239/2239 [==============================] - 2s - loss: 0.1335 - val_loss: 0.1824\n",
      "Epoch 3/40\n",
      "2239/2239 [==============================] - 2s - loss: 0.1239 - val_loss: 0.1704\n",
      "Epoch 4/40\n",
      "2239/2239 [==============================] - 2s - loss: 0.1138 - val_loss: 0.1656\n",
      "Epoch 5/40\n",
      "2239/2239 [==============================] - 2s - loss: 0.1035 - val_loss: 0.1509\n",
      "Epoch 6/40\n",
      "2239/2239 [==============================] - 2s - loss: 0.0954 - val_loss: 0.1477\n",
      "Epoch 7/40\n",
      "2239/2239 [==============================] - 2s - loss: 0.0866 - val_loss: 0.1442\n",
      "Epoch 8/40\n",
      "2239/2239 [==============================] - 2s - loss: 0.0787 - val_loss: 0.1246\n",
      "Epoch 9/40\n",
      "2239/2239 [==============================] - 2s - loss: 0.0728 - val_loss: 0.1284\n",
      "Epoch 10/40\n",
      "2239/2239 [==============================] - 2s - loss: 0.0658 - val_loss: 0.1203\n",
      "Epoch 11/40\n",
      "2239/2239 [==============================] - 2s - loss: 0.0604 - val_loss: 0.1161\n",
      "Epoch 12/40\n",
      "2239/2239 [==============================] - 2s - loss: 0.0562 - val_loss: 0.1147\n",
      "Epoch 13/40\n",
      "2239/2239 [==============================] - 2s - loss: 0.0495 - val_loss: 0.1137\n",
      "Epoch 14/40\n",
      "2239/2239 [==============================] - 2s - loss: 0.0457 - val_loss: 0.1119\n",
      "Epoch 15/40\n",
      "2239/2239 [==============================] - 2s - loss: 0.0412 - val_loss: 0.1141\n",
      "Epoch 16/40\n",
      "2239/2239 [==============================] - 2s - loss: 0.0398 - val_loss: 0.1074\n",
      "Epoch 17/40\n",
      "2239/2239 [==============================] - 2s - loss: 0.0376 - val_loss: 0.1142\n",
      "Epoch 18/40\n",
      "2239/2239 [==============================] - 2s - loss: 0.0353 - val_loss: 0.1100\n",
      "Epoch 19/40\n",
      "2239/2239 [==============================] - 2s - loss: 0.0331 - val_loss: 0.1102\n",
      "Epoch 20/40\n",
      "2239/2239 [==============================] - 2s - loss: 0.0304 - val_loss: 0.1095\n",
      "Epoch 21/40\n",
      "2239/2239 [==============================] - 2s - loss: 0.0273 - val_loss: 0.1041\n",
      "Epoch 22/40\n",
      "2239/2239 [==============================] - 2s - loss: 0.0271 - val_loss: 0.1080\n",
      "Epoch 23/40\n",
      "2239/2239 [==============================] - 2s - loss: 0.0269 - val_loss: 0.1078\n",
      "Epoch 24/40\n",
      "2239/2239 [==============================] - 2s - loss: 0.0253 - val_loss: 0.1084\n",
      "Epoch 25/40\n",
      "2239/2239 [==============================] - 2s - loss: 0.0248 - val_loss: 0.1100\n",
      "Epoch 26/40\n",
      "2239/2239 [==============================] - 2s - loss: 0.0228 - val_loss: 0.1109\n",
      "Epoch 27/40\n",
      "2239/2239 [==============================] - 2s - loss: 0.0220 - val_loss: 0.1104\n",
      "Epoch 28/40\n",
      "2239/2239 [==============================] - 2s - loss: 0.0207 - val_loss: 0.1090\n",
      "Epoch 29/40\n",
      "2239/2239 [==============================] - 2s - loss: 0.0206 - val_loss: 0.1146\n",
      "Epoch 30/40\n",
      "2239/2239 [==============================] - 2s - loss: 0.0198 - val_loss: 0.1104\n",
      "Epoch 31/40\n",
      "2239/2239 [==============================] - 2s - loss: 0.0210 - val_loss: 0.1109\n",
      "Epoch 32/40\n",
      "2239/2239 [==============================] - 2s - loss: 0.0192 - val_loss: 0.1090\n",
      "Epoch 33/40\n",
      "2239/2239 [==============================] - 2s - loss: 0.0194 - val_loss: 0.1168\n",
      "Epoch 34/40\n",
      "2239/2239 [==============================] - 2s - loss: 0.0173 - val_loss: 0.1109\n",
      "Epoch 35/40\n",
      "2239/2239 [==============================] - 2s - loss: 0.0175 - val_loss: 0.1109\n",
      "Epoch 36/40\n",
      "2239/2239 [==============================] - 2s - loss: 0.0167 - val_loss: 0.1121\n",
      "Epoch 37/40\n",
      "2239/2239 [==============================] - 2s - loss: 0.0153 - val_loss: 0.1110\n",
      "Epoch 38/40\n",
      "2239/2239 [==============================] - 2s - loss: 0.0159 - val_loss: 0.1130\n",
      "Epoch 39/40\n",
      "2239/2239 [==============================] - 2s - loss: 0.0153 - val_loss: 0.1131\n",
      "Epoch 40/40\n",
      "2239/2239 [==============================] - 2s - loss: 0.0155 - val_loss: 0.1094\n"
     ]
    }
   ],
   "source": [
    "from sklearn.metrics import f1_score\n",
    "clf = Sequential()\n",
    "clf.add(Dense(X_train.shape[1], activation='relu', input_dim=X_train.shape[1]))\n",
    "clf.add(Dropout(0.6))\n",
    "clf.add(Dense(1200, activation='relu'))\n",
    "clf.add(Dropout(0.6))\n",
    "clf.add(Dense(800, activation='relu'))\n",
    "clf.add(Dropout(0.6))\n",
    "clf.add(Dense(y_train.shape[1], activation='sigmoid'))\n",
    "\n",
    "clf.compile(optimizer=Adam(), loss='binary_crossentropy')\n",
    "\n",
    "clf.fit(X_train, y_train, batch_size=64, nb_epoch=40, validation_data=(X_test, y_test), verbose=1)\n",
    "\n",
    "preds = clf.predict(X_test)\n",
    "\n"
   ]
  },
  {
   "cell_type": "code",
   "execution_count": 14,
   "metadata": {
    "collapsed": true
   },
   "outputs": [],
   "source": [
    "from sklearn.metrics import classification_report"
   ]
  },
  {
   "cell_type": "code",
   "execution_count": 21,
   "metadata": {
    "collapsed": false
   },
   "outputs": [
    {
     "name": "stdout",
     "output_type": "stream",
     "text": [
      "             precision    recall  f1-score   support\n",
      "\n",
      "          0       0.77      0.81      0.79        21\n",
      "          1       0.50      0.22      0.31        18\n",
      "          2       0.88      0.29      0.44        24\n",
      "          3       0.00      0.00      0.00        13\n",
      "          4       0.56      0.32      0.41        91\n",
      "          5       0.83      0.63      0.72        46\n",
      "          6       0.00      0.00      0.00         2\n",
      "          7       0.71      0.65      0.68       214\n",
      "          8       0.40      1.00      0.57         2\n",
      "          9       0.00      0.00      0.00         3\n",
      "         10       0.33      0.75      0.46         4\n",
      "         11       0.77      0.68      0.72        25\n",
      "         12       0.00      0.00      0.00         5\n",
      "         13       0.80      0.25      0.38        64\n",
      "         14       0.00      0.00      0.00         0\n",
      "         15       0.74      0.58      0.65        24\n",
      "         16       0.50      0.21      0.30        14\n",
      "         17       0.65      0.40      0.50       119\n",
      "         18       0.00      0.00      0.00         3\n",
      "         19       0.69      0.38      0.49        29\n",
      "         20       0.29      0.25      0.27         8\n",
      "         21       0.00      0.00      0.00         0\n",
      "         22       1.00      1.00      1.00         1\n",
      "         23       0.83      0.57      0.67        60\n",
      "         24       0.58      0.35      0.44        71\n",
      "         25       0.00      0.00      0.00         1\n",
      "         26       0.62      0.36      0.45        14\n",
      "         27       0.15      0.33      0.21         6\n",
      "         28       0.49      0.44      0.46        39\n",
      "         29       0.00      0.00      0.00         0\n",
      "\n",
      "avg / total       0.66      0.46      0.53       921\n",
      "\n"
     ]
    },
    {
     "name": "stderr",
     "output_type": "stream",
     "text": [
      "/Users/hyejinyang/.local/lib/python3.5/site-packages/sklearn/metrics/classification.py:1098: UndefinedMetricWarning: Precision and F-score are ill-defined and being set to 0.0 in labels with no predicted samples.\n",
      "  'precision', 'predicted', average, warn_for)\n",
      "/Users/hyejinyang/.local/lib/python3.5/site-packages/sklearn/metrics/classification.py:1100: UndefinedMetricWarning: Recall and F-score are ill-defined and being set to 0.0 in labels with no true samples.\n",
      "  'recall', 'true', average, warn_for)\n"
     ]
    }
   ],
   "source": [
    "preds_c = preds.copy()\n",
    "preds_c[preds_c>=0.5] = 1\n",
    "preds_c[preds_c<0.5] = 0\n",
    "print (classification_report(y_test, \n",
    "                            preds_c))"
   ]
  },
  {
   "cell_type": "code",
   "execution_count": 25,
   "metadata": {
    "collapsed": false
   },
   "outputs": [
    {
     "name": "stdout",
     "output_type": "stream",
     "text": [
      "             precision    recall  f1-score   support\n",
      "\n",
      "          0       0.81      0.81      0.81        21\n",
      "          1       0.40      0.11      0.17        18\n",
      "          2       0.86      0.25      0.39        24\n",
      "          3       0.00      0.00      0.00        13\n",
      "          4       0.57      0.23      0.33        91\n",
      "          5       0.79      0.50      0.61        46\n",
      "          6       0.00      0.00      0.00         2\n",
      "          7       0.75      0.58      0.66       214\n",
      "          8       1.00      1.00      1.00         2\n",
      "          9       0.00      0.00      0.00         3\n",
      "         10       0.17      0.25      0.20         4\n",
      "         11       0.75      0.60      0.67        25\n",
      "         12       0.00      0.00      0.00         5\n",
      "         13       0.86      0.19      0.31        64\n",
      "         14       0.00      0.00      0.00         0\n",
      "         15       0.81      0.54      0.65        24\n",
      "         16       1.00      0.21      0.35        14\n",
      "         17       0.71      0.35      0.47       119\n",
      "         18       0.00      0.00      0.00         3\n",
      "         19       0.80      0.28      0.41        29\n",
      "         20       0.29      0.25      0.27         8\n",
      "         21       0.00      0.00      0.00         0\n",
      "         22       1.00      1.00      1.00         1\n",
      "         23       0.86      0.52      0.65        60\n",
      "         24       0.77      0.28      0.41        71\n",
      "         25       0.00      0.00      0.00         1\n",
      "         26       0.83      0.36      0.50        14\n",
      "         27       0.20      0.33      0.25         6\n",
      "         28       0.56      0.36      0.44        39\n",
      "         29       0.00      0.00      0.00         0\n",
      "\n",
      "avg / total       0.71      0.40      0.49       921\n",
      "\n"
     ]
    },
    {
     "name": "stderr",
     "output_type": "stream",
     "text": [
      "/Users/hyejinyang/.local/lib/python3.5/site-packages/sklearn/metrics/classification.py:1098: UndefinedMetricWarning: Precision and F-score are ill-defined and being set to 0.0 in labels with no predicted samples.\n",
      "  'precision', 'predicted', average, warn_for)\n",
      "/Users/hyejinyang/.local/lib/python3.5/site-packages/sklearn/metrics/classification.py:1100: UndefinedMetricWarning: Recall and F-score are ill-defined and being set to 0.0 in labels with no true samples.\n",
      "  'recall', 'true', average, warn_for)\n"
     ]
    }
   ],
   "source": [
    "preds_c = preds.copy()\n",
    "preds_c[preds_c>=0.62] = 1\n",
    "preds_c[preds_c<0.62] = 0\n",
    "print (classification_report(y_test, \n",
    "                            preds_c))"
   ]
  },
  {
   "cell_type": "code",
   "execution_count": 27,
   "metadata": {
    "collapsed": false
   },
   "outputs": [],
   "source": [
    "unsup_vecs = np.loadtxt('unsup_vecs.txt')"
   ]
  },
  {
   "cell_type": "code",
   "execution_count": 28,
   "metadata": {
    "collapsed": true
   },
   "outputs": [],
   "source": [
    "unsup_preds = clf.predict(unsup_vecs)"
   ]
  },
  {
   "cell_type": "code",
   "execution_count": 30,
   "metadata": {
    "collapsed": true
   },
   "outputs": [],
   "source": [
    "unsup_preds_c = unsup_preds.copy()\n",
    "unsup_preds_c[unsup_preds_c>=0.62] = 1\n",
    "unsup_preds_c[unsup_preds_c<0.62] = 0"
   ]
  },
  {
   "cell_type": "code",
   "execution_count": 31,
   "metadata": {
    "collapsed": true
   },
   "outputs": [],
   "source": [
    "np.savetxt('unsup_preds_nn.txt',unsup_preds_c)"
   ]
  },
  {
   "cell_type": "code",
   "execution_count": 55,
   "metadata": {
    "collapsed": false
   },
   "outputs": [
    {
     "name": "stdout",
     "output_type": "stream",
     "text": [
      "             precision    recall  f1-score   support\n",
      "\n",
      "          0       0.88      1.00      0.93        21\n",
      "          1       0.60      0.17      0.26        18\n",
      "          2       0.82      0.38      0.51        24\n",
      "          3       0.40      0.15      0.22        13\n",
      "          4       0.69      0.10      0.17        91\n",
      "          5       0.85      0.61      0.71        46\n",
      "          6       0.00      0.00      0.00         2\n",
      "          7       0.78      0.49      0.60       214\n",
      "          8       0.50      1.00      0.67         2\n",
      "          9       0.00      0.00      0.00         3\n",
      "         10       0.50      0.25      0.33         4\n",
      "         11       0.75      0.36      0.49        25\n",
      "         12       0.00      0.00      0.00         5\n",
      "         13       0.85      0.17      0.29        64\n",
      "         14       0.00      0.00      0.00         0\n",
      "         15       1.00      0.42      0.59        24\n",
      "         16       0.90      0.64      0.75        14\n",
      "         17       0.83      0.24      0.38       119\n",
      "         18       0.00      0.00      0.00         3\n",
      "         19       0.86      0.21      0.33        29\n",
      "         20       1.00      0.25      0.40         8\n",
      "         21       0.00      0.00      0.00         0\n",
      "         22       0.00      0.00      0.00         1\n",
      "         23       0.97      0.48      0.64        60\n",
      "         24       0.93      0.18      0.31        71\n",
      "         25       0.00      0.00      0.00         1\n",
      "         26       0.55      0.43      0.48        14\n",
      "         27       0.25      0.50      0.33         6\n",
      "         28       0.80      0.31      0.44        39\n",
      "         29       0.00      0.00      0.00         0\n",
      "\n",
      "avg / total       0.79      0.35      0.45       921\n",
      "\n"
     ]
    },
    {
     "name": "stderr",
     "output_type": "stream",
     "text": [
      "/Users/hyejinyang/.local/lib/python3.5/site-packages/sklearn/metrics/classification.py:1098: UndefinedMetricWarning: Precision and F-score are ill-defined and being set to 0.0 in labels with no predicted samples.\n",
      "  'precision', 'predicted', average, warn_for)\n",
      "/Users/hyejinyang/.local/lib/python3.5/site-packages/sklearn/metrics/classification.py:1100: UndefinedMetricWarning: Recall and F-score are ill-defined and being set to 0.0 in labels with no true samples.\n",
      "  'recall', 'true', average, warn_for)\n"
     ]
    }
   ],
   "source": [
    "preds_c = preds.copy()\n",
    "preds_c[preds_c>=0.7] = 1\n",
    "preds_c[preds_c<0.7] = 0\n",
    "print (classification_report(y_test, \n",
    "                            preds_c))"
   ]
  },
  {
   "cell_type": "code",
   "execution_count": 56,
   "metadata": {
    "collapsed": false
   },
   "outputs": [
    {
     "name": "stdout",
     "output_type": "stream",
     "text": [
      "             precision    recall  f1-score   support\n",
      "\n",
      "          0       0.91      1.00      0.95        21\n",
      "          1       0.00      0.00      0.00        18\n",
      "          2       0.89      0.33      0.48        24\n",
      "          3       0.25      0.08      0.12        13\n",
      "          4       0.86      0.07      0.12        91\n",
      "          5       0.84      0.59      0.69        46\n",
      "          6       0.00      0.00      0.00         2\n",
      "          7       0.86      0.42      0.56       214\n",
      "          8       0.67      1.00      0.80         2\n",
      "          9       0.00      0.00      0.00         3\n",
      "         10       1.00      0.25      0.40         4\n",
      "         11       0.73      0.32      0.44        25\n",
      "         12       0.00      0.00      0.00         5\n",
      "         13       0.86      0.09      0.17        64\n",
      "         14       0.00      0.00      0.00         0\n",
      "         15       1.00      0.42      0.59        24\n",
      "         16       1.00      0.57      0.73        14\n",
      "         17       0.88      0.18      0.31       119\n",
      "         18       0.00      0.00      0.00         3\n",
      "         19       0.80      0.14      0.24        29\n",
      "         20       1.00      0.25      0.40         8\n",
      "         21       0.00      0.00      0.00         0\n",
      "         22       0.00      0.00      0.00         1\n",
      "         23       0.96      0.45      0.61        60\n",
      "         24       1.00      0.10      0.18        71\n",
      "         25       0.00      0.00      0.00         1\n",
      "         26       0.57      0.29      0.38        14\n",
      "         27       0.33      0.50      0.40         6\n",
      "         28       0.89      0.21      0.33        39\n",
      "         29       0.00      0.00      0.00         0\n",
      "\n",
      "avg / total       0.84      0.29      0.39       921\n",
      "\n"
     ]
    },
    {
     "name": "stderr",
     "output_type": "stream",
     "text": [
      "/Users/hyejinyang/.local/lib/python3.5/site-packages/sklearn/metrics/classification.py:1098: UndefinedMetricWarning: Precision and F-score are ill-defined and being set to 0.0 in labels with no predicted samples.\n",
      "  'precision', 'predicted', average, warn_for)\n",
      "/Users/hyejinyang/.local/lib/python3.5/site-packages/sklearn/metrics/classification.py:1100: UndefinedMetricWarning: Recall and F-score are ill-defined and being set to 0.0 in labels with no true samples.\n",
      "  'recall', 'true', average, warn_for)\n"
     ]
    }
   ],
   "source": [
    "preds_c = preds.copy()\n",
    "preds_c[preds_c>=0.8] = 1\n",
    "preds_c[preds_c<0.8] = 0\n",
    "print (classification_report(y_test, \n",
    "                            preds_c))"
   ]
  }
 ],
 "metadata": {
  "kernelspec": {
   "display_name": "Python 3",
   "language": "python",
   "name": "python3"
  },
  "language_info": {
   "codemirror_mode": {
    "name": "ipython",
    "version": 3
   },
   "file_extension": ".py",
   "mimetype": "text/x-python",
   "name": "python",
   "nbconvert_exporter": "python",
   "pygments_lexer": "ipython3",
   "version": "3.5.1"
  }
 },
 "nbformat": 4,
 "nbformat_minor": 0
}
