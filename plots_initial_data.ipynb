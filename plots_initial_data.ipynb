{
 "cells": [
  {
   "cell_type": "code",
   "execution_count": 10,
   "metadata": {
    "collapsed": false
   },
   "outputs": [],
   "source": [
    "import numpy as np\n",
    "import pandas as pd\n",
    "from ast import literal_eval\n",
    "import matplotlib.pyplot as plt"
   ]
  },
  {
   "cell_type": "code",
   "execution_count": 11,
   "metadata": {
    "collapsed": true
   },
   "outputs": [],
   "source": [
    "%matplotlib inline"
   ]
  },
  {
   "cell_type": "code",
   "execution_count": 3,
   "metadata": {
    "collapsed": false
   },
   "outputs": [],
   "source": [
    "trainDF = pd.read_csv('sentenceTrainDF.csv')\n",
    "testDF = pd.read_csv('sentenceTestDF.csv')"
   ]
  },
  {
   "cell_type": "code",
   "execution_count": 4,
   "metadata": {
    "collapsed": false
   },
   "outputs": [],
   "source": [
    "df = trainDF.copy()"
   ]
  },
  {
   "cell_type": "code",
   "execution_count": 5,
   "metadata": {
    "collapsed": false
   },
   "outputs": [
    {
     "data": {
      "text/html": [
       "<div>\n",
       "<table border=\"1\" class=\"dataframe\">\n",
       "  <thead>\n",
       "    <tr style=\"text-align: right;\">\n",
       "      <th></th>\n",
       "      <th>Unnamed: 0</th>\n",
       "      <th>rid</th>\n",
       "      <th>sid</th>\n",
       "      <th>text</th>\n",
       "      <th>category_polarity_list</th>\n",
       "      <th>categorys</th>\n",
       "      <th>category_num</th>\n",
       "    </tr>\n",
       "  </thead>\n",
       "  <tbody>\n",
       "    <tr>\n",
       "      <th>0</th>\n",
       "      <td>0</td>\n",
       "      <td>79</td>\n",
       "      <td>79:0</td>\n",
       "      <td>Being a PC user my whole life....</td>\n",
       "      <td>[]</td>\n",
       "      <td>[]</td>\n",
       "      <td>0</td>\n",
       "    </tr>\n",
       "    <tr>\n",
       "      <th>1</th>\n",
       "      <td>1</td>\n",
       "      <td>79</td>\n",
       "      <td>79:1</td>\n",
       "      <td>This computer is absolutely AMAZING!!!</td>\n",
       "      <td>[('LAPTOP#GENERAL', 'positive')]</td>\n",
       "      <td>['LAPTOP#GENERAL']</td>\n",
       "      <td>1</td>\n",
       "    </tr>\n",
       "    <tr>\n",
       "      <th>2</th>\n",
       "      <td>2</td>\n",
       "      <td>79</td>\n",
       "      <td>79:2</td>\n",
       "      <td>10 plus hours of battery...</td>\n",
       "      <td>[('BATTERY#OPERATION_PERFORMANCE', 'positive')]</td>\n",
       "      <td>['BATTERY#OPERATION_PERFORMANCE']</td>\n",
       "      <td>1</td>\n",
       "    </tr>\n",
       "    <tr>\n",
       "      <th>3</th>\n",
       "      <td>3</td>\n",
       "      <td>79</td>\n",
       "      <td>79:3</td>\n",
       "      <td>super fast processor and really nice graphics ...</td>\n",
       "      <td>[('CPU#OPERATION_PERFORMANCE', 'positive'), ('...</td>\n",
       "      <td>['CPU#OPERATION_PERFORMANCE', 'GRAPHICS#GENERAL']</td>\n",
       "      <td>2</td>\n",
       "    </tr>\n",
       "    <tr>\n",
       "      <th>4</th>\n",
       "      <td>4</td>\n",
       "      <td>79</td>\n",
       "      <td>79:4</td>\n",
       "      <td>and plenty of storage with 250 gb(though I wil...</td>\n",
       "      <td>[('HARD_DISC#DESIGN_FEATURES', 'positive')]</td>\n",
       "      <td>['HARD_DISC#DESIGN_FEATURES']</td>\n",
       "      <td>1</td>\n",
       "    </tr>\n",
       "  </tbody>\n",
       "</table>\n",
       "</div>"
      ],
      "text/plain": [
       "   Unnamed: 0  rid   sid                                               text  \\\n",
       "0           0   79  79:0                  Being a PC user my whole life....   \n",
       "1           1   79  79:1             This computer is absolutely AMAZING!!!   \n",
       "2           2   79  79:2                        10 plus hours of battery...   \n",
       "3           3   79  79:3  super fast processor and really nice graphics ...   \n",
       "4           4   79  79:4  and plenty of storage with 250 gb(though I wil...   \n",
       "\n",
       "                              category_polarity_list  \\\n",
       "0                                                 []   \n",
       "1                   [('LAPTOP#GENERAL', 'positive')]   \n",
       "2    [('BATTERY#OPERATION_PERFORMANCE', 'positive')]   \n",
       "3  [('CPU#OPERATION_PERFORMANCE', 'positive'), ('...   \n",
       "4        [('HARD_DISC#DESIGN_FEATURES', 'positive')]   \n",
       "\n",
       "                                           categorys  category_num  \n",
       "0                                                 []             0  \n",
       "1                                 ['LAPTOP#GENERAL']             1  \n",
       "2                  ['BATTERY#OPERATION_PERFORMANCE']             1  \n",
       "3  ['CPU#OPERATION_PERFORMANCE', 'GRAPHICS#GENERAL']             2  \n",
       "4                      ['HARD_DISC#DESIGN_FEATURES']             1  "
      ]
     },
     "execution_count": 5,
     "metadata": {},
     "output_type": "execute_result"
    }
   ],
   "source": [
    "df.head()"
   ]
  },
  {
   "cell_type": "code",
   "execution_count": 6,
   "metadata": {
    "collapsed": true
   },
   "outputs": [],
   "source": [
    "def getPolaritys(lst):\n",
    "    return list(map(lambda x: x[1], lst))"
   ]
  },
  {
   "cell_type": "code",
   "execution_count": 7,
   "metadata": {
    "collapsed": false
   },
   "outputs": [],
   "source": [
    "df[\"polaritys\"] = df[\"category_polarity_list\"].map(literal_eval).map(getPolaritys)"
   ]
  },
  {
   "cell_type": "code",
   "execution_count": 8,
   "metadata": {
    "collapsed": true
   },
   "outputs": [],
   "source": [
    "df[\"polarity_num\"] = df[\"polaritys\"].map(lambda x: len(set(x)))"
   ]
  },
  {
   "cell_type": "code",
   "execution_count": 12,
   "metadata": {
    "collapsed": false
   },
   "outputs": [
    {
     "data": {
      "image/png": "[encoded data removed]",
      "text/plain": [
       "<matplotlib.figure.Figure at 0x112a9c278>"
      ]
     },
     "metadata": {},
     "output_type": "display_data"
    }
   ],
   "source": [
    "df[\"polarity_num\"].value_counts().plot(kind='bar', color='red', title='Unique Polarity')\n",
    "plt.savefig('polarity_num.png')"
   ]
  },
  {
   "cell_type": "code",
   "execution_count": 215,
   "metadata": {
    "collapsed": false
   },
   "outputs": [
    {
     "data": {
      "image/png": "[encoded data removed]",
      "text/plain": [
       "<matplotlib.figure.Figure at 0x12e1c74a8>"
      ]
     },
     "metadata": {},
     "output_type": "display_data"
    }
   ],
   "source": [
    "df.category_num.value_counts().plot(kind='bar', color='green', title='Categorys in a sentence')\n",
    "plt.savefig('category_num.png')"
   ]
  },
  {
   "cell_type": "code",
   "execution_count": 13,
   "metadata": {
    "collapsed": false
   },
   "outputs": [
    {
     "data": {
      "text/html": [
       "<div>\n",
       "<table border=\"1\" class=\"dataframe\">\n",
       "  <thead>\n",
       "    <tr style=\"text-align: right;\">\n",
       "      <th></th>\n",
       "      <th>text</th>\n",
       "      <th>category_polarity_list</th>\n",
       "      <th>polaritys</th>\n",
       "    </tr>\n",
       "  </thead>\n",
       "  <tbody>\n",
       "    <tr>\n",
       "      <th>69</th>\n",
       "      <td>It's more expensive but well worth it in the l...</td>\n",
       "      <td>[('LAPTOP#PRICE', 'negative'), ('LAPTOP#GENERA...</td>\n",
       "      <td>[negative, positive]</td>\n",
       "    </tr>\n",
       "    <tr>\n",
       "      <th>72</th>\n",
       "      <td>I'm glad I bought this laptop, it was worth th...</td>\n",
       "      <td>[('LAPTOP#GENERAL', 'positive'), ('LAPTOP#PRIC...</td>\n",
       "      <td>[positive, neutral]</td>\n",
       "    </tr>\n",
       "    <tr>\n",
       "      <th>74</th>\n",
       "      <td>I wasn't really as concerned about portability...</td>\n",
       "      <td>[('LAPTOP#DESIGN_FEATURES', 'neutral'), ('LAPT...</td>\n",
       "      <td>[neutral, positive]</td>\n",
       "    </tr>\n",
       "    <tr>\n",
       "      <th>136</th>\n",
       "      <td>I've haven't had any major problems with the l...</td>\n",
       "      <td>[('LAPTOP#GENERAL', 'positive'), ('PORTS#QUALI...</td>\n",
       "      <td>[positive, negative]</td>\n",
       "    </tr>\n",
       "    <tr>\n",
       "      <th>151</th>\n",
       "      <td>A little pricey but it is well, well worth it.</td>\n",
       "      <td>[('LAPTOP#PRICE', 'negative'), ('LAPTOP#GENERA...</td>\n",
       "      <td>[negative, positive]</td>\n",
       "    </tr>\n",
       "  </tbody>\n",
       "</table>\n",
       "</div>"
      ],
      "text/plain": [
       "                                                  text  \\\n",
       "69   It's more expensive but well worth it in the l...   \n",
       "72   I'm glad I bought this laptop, it was worth th...   \n",
       "74   I wasn't really as concerned about portability...   \n",
       "136  I've haven't had any major problems with the l...   \n",
       "151     A little pricey but it is well, well worth it.   \n",
       "\n",
       "                                category_polarity_list             polaritys  \n",
       "69   [('LAPTOP#PRICE', 'negative'), ('LAPTOP#GENERA...  [negative, positive]  \n",
       "72   [('LAPTOP#GENERAL', 'positive'), ('LAPTOP#PRIC...   [positive, neutral]  \n",
       "74   [('LAPTOP#DESIGN_FEATURES', 'neutral'), ('LAPT...   [neutral, positive]  \n",
       "136  [('LAPTOP#GENERAL', 'positive'), ('PORTS#QUALI...  [positive, negative]  \n",
       "151  [('LAPTOP#PRICE', 'negative'), ('LAPTOP#GENERA...  [negative, positive]  "
      ]
     },
     "execution_count": 13,
     "metadata": {},
     "output_type": "execute_result"
    }
   ],
   "source": [
    "df[df[\"polarity_num\"]==2][[\"text\",\"category_polarity_list\",\"polaritys\"]].head()"
   ]
  },
  {
   "cell_type": "code",
   "execution_count": 161,
   "metadata": {
    "collapsed": false
   },
   "outputs": [
    {
     "data": {
      "text/plain": [
       "1739"
      ]
     },
     "execution_count": 161,
     "metadata": {},
     "output_type": "execute_result"
    }
   ],
   "source": [
    "df[\"polarity_num\"].count()"
   ]
  },
  {
   "cell_type": "code",
   "execution_count": 16,
   "metadata": {
    "collapsed": false
   },
   "outputs": [
    {
     "data": {
      "text/plain": [
       "0.052328924669350199"
      ]
     },
     "execution_count": 16,
     "metadata": {},
     "output_type": "execute_result"
    }
   ],
   "source": [
    "# percentage of mixed polarity\n",
    "df[df[\"polarity_num\"]>=2][\"polarity_num\"].count()/df[\"polarity_num\"].count()"
   ]
  },
  {
   "cell_type": "code",
   "execution_count": 18,
   "metadata": {
    "collapsed": true
   },
   "outputs": [],
   "source": [
    "trainDF = pd.read_csv('trainDF_by_category.csv')"
   ]
  },
  {
   "cell_type": "code",
   "execution_count": 19,
   "metadata": {
    "collapsed": false
   },
   "outputs": [
    {
     "data": {
      "text/html": [
       "<div>\n",
       "<table border=\"1\" class=\"dataframe\">\n",
       "  <thead>\n",
       "    <tr style=\"text-align: right;\">\n",
       "      <th></th>\n",
       "      <th>Unnamed: 0</th>\n",
       "      <th>rid</th>\n",
       "      <th>sid</th>\n",
       "      <th>text</th>\n",
       "      <th>category</th>\n",
       "      <th>polarity</th>\n",
       "      <th>attribute</th>\n",
       "      <th>entity</th>\n",
       "    </tr>\n",
       "  </thead>\n",
       "  <tbody>\n",
       "    <tr>\n",
       "      <th>0</th>\n",
       "      <td>0</td>\n",
       "      <td>79</td>\n",
       "      <td>79:0</td>\n",
       "      <td>Being a PC user my whole life....</td>\n",
       "      <td>UNKNOWN#UNKNOWN</td>\n",
       "      <td>UNKNOWN</td>\n",
       "      <td>UNKNOWN</td>\n",
       "      <td>UNKNOWN</td>\n",
       "    </tr>\n",
       "    <tr>\n",
       "      <th>1</th>\n",
       "      <td>1</td>\n",
       "      <td>79</td>\n",
       "      <td>79:1</td>\n",
       "      <td>This computer is absolutely AMAZING!!!</td>\n",
       "      <td>LAPTOP#GENERAL</td>\n",
       "      <td>positive</td>\n",
       "      <td>GENERAL</td>\n",
       "      <td>LAPTOP</td>\n",
       "    </tr>\n",
       "    <tr>\n",
       "      <th>2</th>\n",
       "      <td>2</td>\n",
       "      <td>79</td>\n",
       "      <td>79:2</td>\n",
       "      <td>10 plus hours of battery...</td>\n",
       "      <td>BATTERY#OPERATION_PERFORMANCE</td>\n",
       "      <td>positive</td>\n",
       "      <td>OPERATION_PERFORMANCE</td>\n",
       "      <td>BATTERY</td>\n",
       "    </tr>\n",
       "    <tr>\n",
       "      <th>3</th>\n",
       "      <td>3</td>\n",
       "      <td>79</td>\n",
       "      <td>79:3</td>\n",
       "      <td>super fast processor and really nice graphics ...</td>\n",
       "      <td>CPU#OPERATION_PERFORMANCE</td>\n",
       "      <td>positive</td>\n",
       "      <td>OPERATION_PERFORMANCE</td>\n",
       "      <td>CPU</td>\n",
       "    </tr>\n",
       "    <tr>\n",
       "      <th>4</th>\n",
       "      <td>4</td>\n",
       "      <td>79</td>\n",
       "      <td>79:3</td>\n",
       "      <td>super fast processor and really nice graphics ...</td>\n",
       "      <td>GRAPHICS#GENERAL</td>\n",
       "      <td>positive</td>\n",
       "      <td>GENERAL</td>\n",
       "      <td>GRAPHICS</td>\n",
       "    </tr>\n",
       "  </tbody>\n",
       "</table>\n",
       "</div>"
      ],
      "text/plain": [
       "   Unnamed: 0  rid   sid                                               text  \\\n",
       "0           0   79  79:0                  Being a PC user my whole life....   \n",
       "1           1   79  79:1             This computer is absolutely AMAZING!!!   \n",
       "2           2   79  79:2                        10 plus hours of battery...   \n",
       "3           3   79  79:3  super fast processor and really nice graphics ...   \n",
       "4           4   79  79:3  super fast processor and really nice graphics ...   \n",
       "\n",
       "                        category  polarity              attribute    entity  \n",
       "0                UNKNOWN#UNKNOWN   UNKNOWN                UNKNOWN   UNKNOWN  \n",
       "1                 LAPTOP#GENERAL  positive                GENERAL    LAPTOP  \n",
       "2  BATTERY#OPERATION_PERFORMANCE  positive  OPERATION_PERFORMANCE   BATTERY  \n",
       "3      CPU#OPERATION_PERFORMANCE  positive  OPERATION_PERFORMANCE       CPU  \n",
       "4               GRAPHICS#GENERAL  positive                GENERAL  GRAPHICS  "
      ]
     },
     "execution_count": 19,
     "metadata": {},
     "output_type": "execute_result"
    }
   ],
   "source": [
    "trainDF.head()"
   ]
  },
  {
   "cell_type": "code",
   "execution_count": 178,
   "metadata": {
    "collapsed": false
   },
   "outputs": [
    {
     "data": {
      "text/plain": [
       "positive    1103\n",
       "negative     765\n",
       "UNKNOWN      340\n",
       "neutral      106\n",
       "Name: polarity, dtype: int64"
      ]
     },
     "execution_count": 178,
     "metadata": {},
     "output_type": "execute_result"
    }
   ],
   "source": [
    "trainDF.polarity.value_counts()"
   ]
  },
  {
   "cell_type": "code",
   "execution_count": 6,
   "metadata": {
    "collapsed": false
   },
   "outputs": [
    {
     "data": {
      "text/plain": [
       "LAPTOP#GENERAL                              413\n",
       "UNKNOWN#UNKNOWN                             340\n",
       "LAPTOP#DESIGN_FEATURES                      162\n",
       "LAPTOP#OPERATION_PERFORMANCE                157\n",
       "LAPTOP#QUALITY                              152\n",
       "SUPPORT#QUALITY                             129\n",
       "LAPTOP#USABILITY                            104\n",
       "LAPTOP#MISCELLANEOUS                         91\n",
       "LAPTOP#PRICE                                 76\n",
       "COMPANY#GENERAL                              69\n",
       "BATTERY#OPERATION_PERFORMANCE                60\n",
       "LAPTOP#PORTABILITY                           44\n",
       "LAPTOP#CONNECTIVITY                          32\n",
       "DISPLAY#QUALITY                              31\n",
       "SOFTWARE#GENERAL                             23\n",
       "DISPLAY#DESIGN_FEATURES                      19\n",
       "KEYBOARD#DESIGN_FEATURES                     18\n",
       "OS#GENERAL                                   17\n",
       "SOFTWARE#USABILITY                           16\n",
       "GRAPHICS#GENERAL                             16\n",
       "MOUSE#OPERATION_PERFORMANCE                  16\n",
       "KEYBOARD#QUALITY                             15\n",
       "MULTIMEDIA_DEVICES#QUALITY                   14\n",
       "SOFTWARE#OPERATION_PERFORMANCE               14\n",
       "MOUSE#USABILITY                              13\n",
       "DISPLAY#GENERAL                              13\n",
       "HARD_DISC#DESIGN_FEATURES                    12\n",
       "KEYBOARD#USABILITY                           11\n",
       "MEMORY#DESIGN_FEATURES                       11\n",
       "OS#USABILITY                                 11\n",
       "                                           ... \n",
       "GRAPHICS#QUALITY                              4\n",
       "MULTIMEDIA_DEVICES#OPERATION_PERFORMANCE      4\n",
       "POWER_SUPPLY#OPERATION_PERFORMANCE            4\n",
       "SUPPORT#GENERAL                               4\n",
       "MULTIMEDIA_DEVICES#GENERAL                    4\n",
       "SUPPORT#MISCELLANEOUS                         3\n",
       "WARRANTY#GENERAL                              3\n",
       "MULTIMEDIA_DEVICES#USABILITY                  3\n",
       "POWER_SUPPLY#DESIGN_FEATURES                  3\n",
       "SHIPPING#PRICE                                3\n",
       "HARDWARE#QUALITY                              3\n",
       "OS#DESIGN_FEATURES                            2\n",
       "CPU#QUALITY                                   2\n",
       "FANS_COOLING#QUALITY                          2\n",
       "CPU#MISCELLANEOUS                             2\n",
       "OPTICAL_DRIVES#QUALITY                        2\n",
       "GRAPHICS#MISCELLANEOUS                        2\n",
       "OS#MISCELLANEOUS                              2\n",
       "GRAPHICS#DESIGN_FEATURES                      2\n",
       "WARRANTY#PRICE                                2\n",
       "SOFTWARE#PRICE                                1\n",
       "FANS_COOLING#DESIGN_FEATURES                  1\n",
       "PORTS#DESIGN_FEATURES                         1\n",
       "PORTS#OPERATION_PERFORMANCE                   1\n",
       "SOFTWARE#QUALITY                              1\n",
       "FANS_COOLING#OPERATION_PERFORMANCE            1\n",
       "WARRANTY#MISCELLANEOUS                        1\n",
       "MULTIMEDIA_DEVICES#MISCELLANEOUS              1\n",
       "DISPLAY#MISCELLANEOUS                         1\n",
       "POWER_SUPPLY#MISCELLANEOUS                    1\n",
       "Name: category, dtype: int64"
      ]
     },
     "execution_count": 6,
     "metadata": {},
     "output_type": "execute_result"
    }
   ],
   "source": [
    "trainDF.category.value_counts()"
   ]
  },
  {
   "cell_type": "code",
   "execution_count": 51,
   "metadata": {
    "collapsed": true
   },
   "outputs": [],
   "source": [
    "category_counts = trainDF.category.value_counts()"
   ]
  },
  {
   "cell_type": "code",
   "execution_count": 8,
   "metadata": {
    "collapsed": false
   },
   "outputs": [
    {
     "data": {
      "text/plain": [
       "LAPTOP                1231\n",
       "UNKNOWN                340\n",
       "SUPPORT                142\n",
       "DISPLAY                 78\n",
       "BATTERY                 77\n",
       "SOFTWARE                71\n",
       "COMPANY                 69\n",
       "KEYBOARD                60\n",
       "MOUSE                   50\n",
       "OS                      42\n",
       "MULTIMEDIA_DEVICES      30\n",
       "GRAPHICS                24\n",
       "HARD_DISC               21\n",
       "POWER_SUPPLY            18\n",
       "MEMORY                  11\n",
       "CPU                     11\n",
       "SHIPPING                11\n",
       "MOTHERBOARD              7\n",
       "PORTS                    6\n",
       "WARRANTY                 6\n",
       "FANS_COOLING             4\n",
       "HARDWARE                 3\n",
       "OPTICAL_DRIVES           2\n",
       "Name: entity, dtype: int64"
      ]
     },
     "execution_count": 8,
     "metadata": {},
     "output_type": "execute_result"
    }
   ],
   "source": [
    "trainDF.entity.value_counts()"
   ]
  },
  {
   "cell_type": "code",
   "execution_count": null,
   "metadata": {
    "collapsed": true
   },
   "outputs": [],
   "source": [
    "entity_sorted = trainDF.entity.value_counts().keys().tolist()\n",
    "entity_sorted.remove('UNKNOWN')"
   ]
  },
  {
   "cell_type": "code",
   "execution_count": 47,
   "metadata": {
    "collapsed": false
   },
   "outputs": [
    {
     "data": {
      "text/plain": [
       "['LAPTOP',\n",
       " 'SUPPORT',\n",
       " 'DISPLAY',\n",
       " 'BATTERY',\n",
       " 'SOFTWARE',\n",
       " 'COMPANY',\n",
       " 'KEYBOARD',\n",
       " 'MOUSE',\n",
       " 'OS',\n",
       " 'MULTIMEDIA_DEVICES',\n",
       " 'GRAPHICS',\n",
       " 'HARD_DISC',\n",
       " 'POWER_SUPPLY',\n",
       " 'CPU',\n",
       " 'MEMORY',\n",
       " 'SHIPPING',\n",
       " 'MOTHERBOARD',\n",
       " 'WARRANTY',\n",
       " 'PORTS',\n",
       " 'FANS_COOLING',\n",
       " 'HARDWARE',\n",
       " 'OPTICAL_DRIVES']"
      ]
     },
     "execution_count": 47,
     "metadata": {},
     "output_type": "execute_result"
    }
   ],
   "source": [
    "entity_sorted"
   ]
  },
  {
   "cell_type": "code",
   "execution_count": 48,
   "metadata": {
    "collapsed": true
   },
   "outputs": [],
   "source": [
    "attribute_sorted = trainDF.attribute.value_counts().keys().tolist()\n",
    "attribute_sorted.remove('UNKNOWN')"
   ]
  },
  {
   "cell_type": "code",
   "execution_count": 50,
   "metadata": {
    "collapsed": false
   },
   "outputs": [
    {
     "data": {
      "text/plain": [
       "['GENERAL',\n",
       " 'QUALITY',\n",
       " 'OPERATION_PERFORMANCE',\n",
       " 'DESIGN_FEATURES',\n",
       " 'USABILITY',\n",
       " 'MISCELLANEOUS',\n",
       " 'PRICE',\n",
       " 'PORTABILITY',\n",
       " 'CONNECTIVITY']"
      ]
     },
     "execution_count": 50,
     "metadata": {},
     "output_type": "execute_result"
    }
   ],
   "source": [
    "attribute_sorted"
   ]
  },
  {
   "cell_type": "code",
   "execution_count": 53,
   "metadata": {
    "collapsed": true
   },
   "outputs": [],
   "source": [
    "attribute_num = len(attribute_sorted)"
   ]
  },
  {
   "cell_type": "code",
   "execution_count": 54,
   "metadata": {
    "collapsed": true
   },
   "outputs": [],
   "source": [
    "entity_num = len(entity_sorted)"
   ]
  },
  {
   "cell_type": "code",
   "execution_count": 91,
   "metadata": {
    "collapsed": true
   },
   "outputs": [],
   "source": [
    "category_counts_arr = np.zeros((entity_num, attribute_num))"
   ]
  },
  {
   "cell_type": "code",
   "execution_count": 60,
   "metadata": {
    "collapsed": false
   },
   "outputs": [
    {
     "data": {
      "text/plain": [
       "pandas.core.series.Series"
      ]
     },
     "execution_count": 60,
     "metadata": {},
     "output_type": "execute_result"
    }
   ],
   "source": [
    "type(category_counts)"
   ]
  },
  {
   "cell_type": "code",
   "execution_count": 66,
   "metadata": {
    "collapsed": false
   },
   "outputs": [
    {
     "data": {
      "text/plain": [
       "False"
      ]
     },
     "execution_count": 66,
     "metadata": {},
     "output_type": "execute_result"
    }
   ],
   "source": [
    "'UNKNOWN' in entity_sorted"
   ]
  },
  {
   "cell_type": "code",
   "execution_count": 92,
   "metadata": {
    "collapsed": false
   },
   "outputs": [],
   "source": [
    "for cat, count in category_counts.iteritems():\n",
    "    entity, attribute = cat.split('#')\n",
    "    if (entity!='UNKNOWN') and (attribute!='UNKNOWN'):\n",
    "        entity_index = entity_sorted.index(entity)\n",
    "        attribute_index = attribute_sorted.index(attribute)\n",
    "        category_counts_arr[entity_index, attribute_index] = count"
   ]
  },
  {
   "cell_type": "code",
   "execution_count": 133,
   "metadata": {
    "collapsed": false
   },
   "outputs": [
    {
     "name": "stdout",
     "output_type": "stream",
     "text": [
      "Populating the interactive namespace from numpy and matplotlib\n"
     ]
    },
    {
     "data": {
      "image/png": "[encoded data removed]",
      "text/plain": [
       "<matplotlib.figure.Figure at 0x189f36978>"
      ]
     },
     "metadata": {},
     "output_type": "display_data"
    }
   ],
   "source": [
    "import matplotlib.pyplot as plt\n",
    "import pandas as pd\n",
    "import numpy as np\n",
    "%pylab inline\n",
    "\n",
    "data = category_counts_arr\n",
    "\n",
    "# Plot it out\n",
    "fig, ax = plt.subplots()\n",
    "heatmap = ax.pcolor(data, cmap=plt.cm.Blues, alpha=0.8)\n",
    "\n",
    "# Format\n",
    "fig = plt.gcf()\n",
    "fig.set_size_inches(8, 11)\n",
    "\n",
    "# turn off the frame\n",
    "ax.set_frame_on(False)\n",
    "\n",
    "# put the major ticks at the middle of each cell\n",
    "ax.set_yticks(np.arange(data.shape[0]) + 0.5, minor=False)\n",
    "ax.set_xticks(np.arange(data.shape[1]) + 0.5, minor=False)\n",
    "\n",
    "# want a more natural, table-like display\n",
    "ax.invert_yaxis()\n",
    "ax.xaxis.tick_top()\n",
    "\n",
    "# Set the labels\n",
    "\n",
    "ax.set_xticklabels(attribute_sorted, minor=False)\n",
    "ax.set_yticklabels(entity_sorted, minor=False)\n",
    "\n",
    "# rotate the\n",
    "plt.xticks(rotation=75)\n",
    "\n",
    "ax.grid(False)\n",
    "\n",
    "# Turn off all the ticks\n",
    "ax = plt.gca()\n",
    "\n",
    "for t in ax.xaxis.get_major_ticks():\n",
    "    t.tick1On = False\n",
    "    t.tick2On = False\n",
    "for t in ax.yaxis.get_major_ticks():\n",
    "    t.tick1On = False\n",
    "    t.tick2On = False\n",
    "plt.savefig('heatmap.png',bbox_inches='tight')\n"
   ]
  }
 ],
 "metadata": {
  "kernelspec": {
   "display_name": "Python 3",
   "language": "python",
   "name": "python3"
  },
  "language_info": {
   "codemirror_mode": {
    "name": "ipython",
    "version": 3
   },
   "file_extension": ".py",
   "mimetype": "text/x-python",
   "name": "python",
   "nbconvert_exporter": "python",
   "pygments_lexer": "ipython3",
   "version": "3.5.1"
  }
 },
 "nbformat": 4,
 "nbformat_minor": 0
}
