{
 "cells": [
  {
   "cell_type": "code",
   "execution_count": 64,
   "metadata": {
    "collapsed": true
   },
   "outputs": [],
   "source": [
    "import pandas as pd\n",
    "import xml.etree.ElementTree as ET\n",
    "\n",
    "def getDF(path):\n",
    "    tree = ET.parse(path)\n",
    "    root = tree.getroot()\n",
    "    df = pd.DataFrame(columns=('rid','sid', 'text', 'category', 'polarity'))\n",
    "    reviews = root.getchildren()\n",
    "    rnum = len(reviews)\n",
    "    j=0\n",
    "    k=0\n",
    "    for j in range(0,rnum):\n",
    "        review = reviews[j]\n",
    "        rid = review.attrib['rid']\n",
    "        sentences = review.getchildren()[0]\n",
    "        snum = len(sentences)\n",
    "        for i in range(0,snum):\n",
    "            sentence = sentences[i]\n",
    "            sid = sentence.attrib['id']\n",
    "            text = sentence[0].text\n",
    "            if len(sentence) > 1:\n",
    "                opinions = sentence[1]\n",
    "                for opinion in opinions:\n",
    "                    category = opinion.attrib['category']\n",
    "                    polarity = opinion.attrib['polarity']\n",
    "                    row = dict(zip(['rid','sid', 'text', 'category', 'polarity'], [rid, sid, text, category, polarity]))\n",
    "                    row_s = pd.Series(row)\n",
    "                    row_s.name = k\n",
    "                    df = df.append(row_s)\n",
    "                    k +=1\n",
    "            else:\n",
    "                row = dict(zip(['rid','sid', 'text', 'category', 'polarity'], [rid, sid, text, 'UNKNOWN#UNKNOWN', 'UNKNOWN']))\n",
    "                row_s = pd.Series(row)\n",
    "                row_s.name = k\n",
    "                df = df.append(row_s)\n",
    "                k+=1\n",
    "    foo = lambda x: pd.Series([i for i in reversed(x.split('#'))])\n",
    "    rev = df['category'].apply(foo)\n",
    "    rev.rename(columns={0:'attribute',1:'entity'},inplace=True)\n",
    "    df[['attribute','entity']] = rev[['attribute','entity']]\n",
    "    return df\n"
   ]
  },
  {
   "cell_type": "code",
   "execution_count": 65,
   "metadata": {
    "collapsed": false
   },
   "outputs": [],
   "source": [
    "trainDF = getDF('ABSA-15_Laptops_Train_Data.xml')\n",
    "testDF = getDF('ABSA15_Laptops_Test.xml')"
   ]
  },
  {
   "cell_type": "code",
   "execution_count": 81,
   "metadata": {
    "collapsed": false
   },
   "outputs": [
    {
     "data": {
      "text/plain": [
       "rid          2314\n",
       "sid          2314\n",
       "text         2314\n",
       "category     2314\n",
       "polarity     2314\n",
       "attribute    2314\n",
       "entity       2314\n",
       "dtype: int64"
      ]
     },
     "execution_count": 81,
     "metadata": {},
     "output_type": "execute_result"
    }
   ],
   "source": [
    "trainDF.count()"
   ]
  },
  {
   "cell_type": "code",
   "execution_count": 82,
   "metadata": {
    "collapsed": false
   },
   "outputs": [
    {
     "data": {
      "text/plain": [
       "rid          1066\n",
       "sid          1066\n",
       "text         1066\n",
       "category     1066\n",
       "polarity     1066\n",
       "attribute    1066\n",
       "entity       1066\n",
       "dtype: int64"
      ]
     },
     "execution_count": 82,
     "metadata": {},
     "output_type": "execute_result"
    }
   ],
   "source": [
    "testDF.count()"
   ]
  },
  {
   "cell_type": "code",
   "execution_count": 66,
   "metadata": {
    "collapsed": false
   },
   "outputs": [
    {
     "data": {
      "text/html": [
       "<div>\n",
       "<table border=\"1\" class=\"dataframe\">\n",
       "  <thead>\n",
       "    <tr style=\"text-align: right;\">\n",
       "      <th></th>\n",
       "      <th>rid</th>\n",
       "      <th>sid</th>\n",
       "      <th>text</th>\n",
       "      <th>category</th>\n",
       "      <th>polarity</th>\n",
       "      <th>attribute</th>\n",
       "      <th>entity</th>\n",
       "    </tr>\n",
       "  </thead>\n",
       "  <tbody>\n",
       "    <tr>\n",
       "      <th>0</th>\n",
       "      <td>79</td>\n",
       "      <td>79:0</td>\n",
       "      <td>Being a PC user my whole life....</td>\n",
       "      <td>UNKNOWN#UNKNOWN</td>\n",
       "      <td>UNKNOWN</td>\n",
       "      <td>UNKNOWN</td>\n",
       "      <td>UNKNOWN</td>\n",
       "    </tr>\n",
       "    <tr>\n",
       "      <th>9</th>\n",
       "      <td>79</td>\n",
       "      <td>79:7</td>\n",
       "      <td>MACS ARE AMAZING!!!</td>\n",
       "      <td>UNKNOWN#UNKNOWN</td>\n",
       "      <td>UNKNOWN</td>\n",
       "      <td>UNKNOWN</td>\n",
       "      <td>UNKNOWN</td>\n",
       "    </tr>\n",
       "    <tr>\n",
       "      <th>17</th>\n",
       "      <td>264</td>\n",
       "      <td>264:0</td>\n",
       "      <td>As a lifelong Windows user, I was extremely pl...</td>\n",
       "      <td>UNKNOWN#UNKNOWN</td>\n",
       "      <td>UNKNOWN</td>\n",
       "      <td>UNKNOWN</td>\n",
       "      <td>UNKNOWN</td>\n",
       "    </tr>\n",
       "    <tr>\n",
       "      <th>38</th>\n",
       "      <td>24</td>\n",
       "      <td>24:10</td>\n",
       "      <td>I did contact HP and share how unhappy I am.</td>\n",
       "      <td>UNKNOWN#UNKNOWN</td>\n",
       "      <td>UNKNOWN</td>\n",
       "      <td>UNKNOWN</td>\n",
       "      <td>UNKNOWN</td>\n",
       "    </tr>\n",
       "    <tr>\n",
       "      <th>71</th>\n",
       "      <td>348</td>\n",
       "      <td>348:2</td>\n",
       "      <td>Yes, I have it on the highest available setting.</td>\n",
       "      <td>UNKNOWN#UNKNOWN</td>\n",
       "      <td>UNKNOWN</td>\n",
       "      <td>UNKNOWN</td>\n",
       "      <td>UNKNOWN</td>\n",
       "    </tr>\n",
       "  </tbody>\n",
       "</table>\n",
       "</div>"
      ],
      "text/plain": [
       "    rid    sid                                               text  \\\n",
       "0    79   79:0                  Being a PC user my whole life....   \n",
       "9    79   79:7                                MACS ARE AMAZING!!!   \n",
       "17  264  264:0  As a lifelong Windows user, I was extremely pl...   \n",
       "38   24  24:10       I did contact HP and share how unhappy I am.   \n",
       "71  348  348:2   Yes, I have it on the highest available setting.   \n",
       "\n",
       "           category polarity attribute   entity  \n",
       "0   UNKNOWN#UNKNOWN  UNKNOWN   UNKNOWN  UNKNOWN  \n",
       "9   UNKNOWN#UNKNOWN  UNKNOWN   UNKNOWN  UNKNOWN  \n",
       "17  UNKNOWN#UNKNOWN  UNKNOWN   UNKNOWN  UNKNOWN  \n",
       "38  UNKNOWN#UNKNOWN  UNKNOWN   UNKNOWN  UNKNOWN  \n",
       "71  UNKNOWN#UNKNOWN  UNKNOWN   UNKNOWN  UNKNOWN  "
      ]
     },
     "execution_count": 66,
     "metadata": {},
     "output_type": "execute_result"
    }
   ],
   "source": [
    "trainDF[(trainDF['category']=='UNKNOWN#UNKNOWN')].head()"
   ]
  },
  {
   "cell_type": "code",
   "execution_count": 67,
   "metadata": {
    "collapsed": false
   },
   "outputs": [
    {
     "data": {
      "text/html": [
       "<div>\n",
       "<table border=\"1\" class=\"dataframe\">\n",
       "  <thead>\n",
       "    <tr style=\"text-align: right;\">\n",
       "      <th></th>\n",
       "      <th>rid</th>\n",
       "      <th>sid</th>\n",
       "      <th>text</th>\n",
       "      <th>category</th>\n",
       "      <th>polarity</th>\n",
       "      <th>attribute</th>\n",
       "      <th>entity</th>\n",
       "    </tr>\n",
       "  </thead>\n",
       "  <tbody>\n",
       "    <tr>\n",
       "      <th>0</th>\n",
       "      <td>79</td>\n",
       "      <td>79:0</td>\n",
       "      <td>Being a PC user my whole life....</td>\n",
       "      <td>UNKNOWN#UNKNOWN</td>\n",
       "      <td>UNKNOWN</td>\n",
       "      <td>UNKNOWN</td>\n",
       "      <td>UNKNOWN</td>\n",
       "    </tr>\n",
       "    <tr>\n",
       "      <th>1</th>\n",
       "      <td>79</td>\n",
       "      <td>79:1</td>\n",
       "      <td>This computer is absolutely AMAZING!!!</td>\n",
       "      <td>LAPTOP#GENERAL</td>\n",
       "      <td>positive</td>\n",
       "      <td>GENERAL</td>\n",
       "      <td>LAPTOP</td>\n",
       "    </tr>\n",
       "    <tr>\n",
       "      <th>2</th>\n",
       "      <td>79</td>\n",
       "      <td>79:2</td>\n",
       "      <td>10 plus hours of battery...</td>\n",
       "      <td>BATTERY#OPERATION_PERFORMANCE</td>\n",
       "      <td>positive</td>\n",
       "      <td>OPERATION_PERFORMANCE</td>\n",
       "      <td>BATTERY</td>\n",
       "    </tr>\n",
       "    <tr>\n",
       "      <th>3</th>\n",
       "      <td>79</td>\n",
       "      <td>79:3</td>\n",
       "      <td>super fast processor and really nice graphics ...</td>\n",
       "      <td>CPU#OPERATION_PERFORMANCE</td>\n",
       "      <td>positive</td>\n",
       "      <td>OPERATION_PERFORMANCE</td>\n",
       "      <td>CPU</td>\n",
       "    </tr>\n",
       "    <tr>\n",
       "      <th>4</th>\n",
       "      <td>79</td>\n",
       "      <td>79:3</td>\n",
       "      <td>super fast processor and really nice graphics ...</td>\n",
       "      <td>GRAPHICS#GENERAL</td>\n",
       "      <td>positive</td>\n",
       "      <td>GENERAL</td>\n",
       "      <td>GRAPHICS</td>\n",
       "    </tr>\n",
       "  </tbody>\n",
       "</table>\n",
       "</div>"
      ],
      "text/plain": [
       "  rid   sid                                               text  \\\n",
       "0  79  79:0                  Being a PC user my whole life....   \n",
       "1  79  79:1             This computer is absolutely AMAZING!!!   \n",
       "2  79  79:2                        10 plus hours of battery...   \n",
       "3  79  79:3  super fast processor and really nice graphics ...   \n",
       "4  79  79:3  super fast processor and really nice graphics ...   \n",
       "\n",
       "                        category  polarity              attribute    entity  \n",
       "0                UNKNOWN#UNKNOWN   UNKNOWN                UNKNOWN   UNKNOWN  \n",
       "1                 LAPTOP#GENERAL  positive                GENERAL    LAPTOP  \n",
       "2  BATTERY#OPERATION_PERFORMANCE  positive  OPERATION_PERFORMANCE   BATTERY  \n",
       "3      CPU#OPERATION_PERFORMANCE  positive  OPERATION_PERFORMANCE       CPU  \n",
       "4               GRAPHICS#GENERAL  positive                GENERAL  GRAPHICS  "
      ]
     },
     "execution_count": 67,
     "metadata": {},
     "output_type": "execute_result"
    }
   ],
   "source": [
    "trainDF.head()"
   ]
  },
  {
   "cell_type": "code",
   "execution_count": 68,
   "metadata": {
    "collapsed": false
   },
   "outputs": [
    {
     "data": {
      "text/plain": [
       "array(['UNKNOWN#UNKNOWN', 'LAPTOP#GENERAL',\n",
       "       'BATTERY#OPERATION_PERFORMANCE', 'CPU#OPERATION_PERFORMANCE',\n",
       "       'GRAPHICS#GENERAL', 'HARD_DISC#DESIGN_FEATURES',\n",
       "       'LAPTOP#OPERATION_PERFORMANCE', 'LAPTOP#USABILITY',\n",
       "       'LAPTOP#PORTABILITY', 'LAPTOP#PRICE', 'LAPTOP#QUALITY',\n",
       "       'LAPTOP#DESIGN_FEATURES', 'LAPTOP#MISCELLANEOUS',\n",
       "       'OS#DESIGN_FEATURES', 'BATTERY#QUALITY', 'SUPPORT#QUALITY',\n",
       "       'COMPANY#GENERAL', 'DISPLAY#USABILITY', 'DISPLAY#DESIGN_FEATURES',\n",
       "       'OS#GENERAL', 'LAPTOP#CONNECTIVITY', 'DISPLAY#QUALITY',\n",
       "       'OS#USABILITY', 'MOUSE#DESIGN_FEATURES', 'SOFTWARE#MISCELLANEOUS',\n",
       "       'KEYBOARD#DESIGN_FEATURES', 'KEYBOARD#GENERAL', 'SOFTWARE#GENERAL',\n",
       "       'OPTICAL_DRIVES#QUALITY', 'GRAPHICS#QUALITY', 'HARD_DISC#QUALITY',\n",
       "       'WARRANTY#GENERAL', 'MOUSE#QUALITY', 'MULTIMEDIA_DEVICES#USABILITY',\n",
       "       'MULTIMEDIA_DEVICES#QUALITY', 'PORTS#QUALITY', 'DISPLAY#GENERAL',\n",
       "       'POWER_SUPPLY#QUALITY', 'POWER_SUPPLY#OPERATION_PERFORMANCE',\n",
       "       'HARDWARE#QUALITY', 'DISPLAY#OPERATION_PERFORMANCE',\n",
       "       'MULTIMEDIA_DEVICES#GENERAL', 'MULTIMEDIA_DEVICES#DESIGN_FEATURES',\n",
       "       'KEYBOARD#USABILITY', 'KEYBOARD#QUALITY',\n",
       "       'POWER_SUPPLY#DESIGN_FEATURES', 'SHIPPING#QUALITY',\n",
       "       'MOUSE#OPERATION_PERFORMANCE', 'MOUSE#USABILITY', 'SUPPORT#GENERAL',\n",
       "       'OS#MISCELLANEOUS', 'SHIPPING#PRICE',\n",
       "       'KEYBOARD#OPERATION_PERFORMANCE', 'SUPPORT#MISCELLANEOUS',\n",
       "       'CPU#QUALITY', 'GRAPHICS#DESIGN_FEATURES',\n",
       "       'OS#OPERATION_PERFORMANCE', 'MEMORY#DESIGN_FEATURES',\n",
       "       'SOFTWARE#QUALITY', 'SOFTWARE#USABILITY',\n",
       "       'SOFTWARE#DESIGN_FEATURES', 'OS#QUALITY',\n",
       "       'SOFTWARE#OPERATION_PERFORMANCE', 'PORTS#DESIGN_FEATURES',\n",
       "       'DISPLAY#MISCELLANEOUS', 'BATTERY#MISCELLANEOUS',\n",
       "       'CPU#MISCELLANEOUS', 'MOTHERBOARD#QUALITY', 'SOFTWARE#PRICE',\n",
       "       'MOUSE#GENERAL', 'WARRANTY#MISCELLANEOUS', 'BATTERY#GENERAL',\n",
       "       'MULTIMEDIA_DEVICES#OPERATION_PERFORMANCE', 'SUPPORT#PRICE',\n",
       "       'WARRANTY#PRICE', 'FANS_COOLING#DESIGN_FEATURES',\n",
       "       'MULTIMEDIA_DEVICES#MISCELLANEOUS', 'FANS_COOLING#QUALITY',\n",
       "       'POWER_SUPPLY#MISCELLANEOUS', 'PORTS#OPERATION_PERFORMANCE',\n",
       "       'GRAPHICS#MISCELLANEOUS', 'FANS_COOLING#OPERATION_PERFORMANCE'], dtype=object)"
      ]
     },
     "execution_count": 68,
     "metadata": {},
     "output_type": "execute_result"
    }
   ],
   "source": [
    "trainDF.category.unique()"
   ]
  },
  {
   "cell_type": "code",
   "execution_count": 70,
   "metadata": {
    "collapsed": false
   },
   "outputs": [
    {
     "data": {
      "text/plain": [
       "category                        polarity\n",
       "BATTERY#GENERAL                 negative      3\n",
       "                                positive      1\n",
       "BATTERY#MISCELLANEOUS           negative      4\n",
       "BATTERY#OPERATION_PERFORMANCE   negative     25\n",
       "                                neutral       3\n",
       "                                positive     32\n",
       "BATTERY#QUALITY                 negative      7\n",
       "                                neutral       1\n",
       "                                positive      1\n",
       "COMPANY#GENERAL                 negative     38\n",
       "                                neutral       3\n",
       "                                positive     28\n",
       "CPU#MISCELLANEOUS               negative      1\n",
       "                                neutral       1\n",
       "CPU#OPERATION_PERFORMANCE       negative      1\n",
       "                                positive      6\n",
       "CPU#QUALITY                     negative      1\n",
       "                                positive      1\n",
       "DISPLAY#DESIGN_FEATURES         negative      4\n",
       "                                neutral       3\n",
       "                                positive     12\n",
       "DISPLAY#GENERAL                 negative      2\n",
       "                                positive     11\n",
       "DISPLAY#MISCELLANEOUS           negative      1\n",
       "DISPLAY#OPERATION_PERFORMANCE   negative      9\n",
       "                                neutral       1\n",
       "DISPLAY#QUALITY                 negative     12\n",
       "                                neutral       1\n",
       "                                positive     18\n",
       "DISPLAY#USABILITY               negative      1\n",
       "                                           ... \n",
       "SHIPPING#PRICE                  positive      1\n",
       "SHIPPING#QUALITY                negative      5\n",
       "                                positive      3\n",
       "SOFTWARE#DESIGN_FEATURES        neutral       3\n",
       "                                positive      3\n",
       "SOFTWARE#GENERAL                negative      9\n",
       "                                positive     14\n",
       "SOFTWARE#MISCELLANEOUS          negative      3\n",
       "                                positive      7\n",
       "SOFTWARE#OPERATION_PERFORMANCE  negative      7\n",
       "                                neutral       1\n",
       "                                positive      6\n",
       "SOFTWARE#PRICE                  negative      1\n",
       "SOFTWARE#QUALITY                negative      1\n",
       "SOFTWARE#USABILITY              negative      4\n",
       "                                positive     12\n",
       "SUPPORT#GENERAL                 negative      2\n",
       "                                positive      2\n",
       "SUPPORT#MISCELLANEOUS           negative      2\n",
       "                                positive      1\n",
       "SUPPORT#PRICE                   negative      6\n",
       "SUPPORT#QUALITY                 negative    114\n",
       "                                neutral       2\n",
       "                                positive     13\n",
       "UNKNOWN#UNKNOWN                 UNKNOWN     340\n",
       "WARRANTY#GENERAL                negative      2\n",
       "                                positive      1\n",
       "WARRANTY#MISCELLANEOUS          negative      1\n",
       "WARRANTY#PRICE                  negative      1\n",
       "                                neutral       1\n",
       "dtype: int64"
      ]
     },
     "execution_count": 70,
     "metadata": {},
     "output_type": "execute_result"
    }
   ],
   "source": [
    "trainDF.groupby([\"category\", \"polarity\"]).size()"
   ]
  },
  {
   "cell_type": "code",
   "execution_count": 71,
   "metadata": {
    "collapsed": false
   },
   "outputs": [
    {
     "data": {
      "text/plain": [
       "entity              polarity\n",
       "BATTERY             negative     39\n",
       "                    neutral       4\n",
       "                    positive     34\n",
       "COMPANY             negative     38\n",
       "                    neutral       3\n",
       "                    positive     28\n",
       "CPU                 negative      3\n",
       "                    neutral       1\n",
       "                    positive      7\n",
       "DISPLAY             negative     29\n",
       "                    neutral       7\n",
       "                    positive     42\n",
       "FANS_COOLING        negative      3\n",
       "                    positive      1\n",
       "GRAPHICS            negative      4\n",
       "                    neutral       2\n",
       "                    positive     18\n",
       "HARDWARE            negative      3\n",
       "HARD_DISC           negative     12\n",
       "                    positive      9\n",
       "KEYBOARD            negative     27\n",
       "                    neutral       2\n",
       "                    positive     31\n",
       "LAPTOP              negative    349\n",
       "                    neutral      64\n",
       "                    positive    818\n",
       "MEMORY              negative      1\n",
       "                    neutral       4\n",
       "                    positive      6\n",
       "MOTHERBOARD         negative      7\n",
       "MOUSE               negative     30\n",
       "                    neutral       4\n",
       "                    positive     16\n",
       "MULTIMEDIA_DEVICES  negative     23\n",
       "                    neutral       3\n",
       "                    positive      4\n",
       "OPTICAL_DRIVES      negative      2\n",
       "OS                  negative     12\n",
       "                    neutral       5\n",
       "                    positive     25\n",
       "PORTS               negative      6\n",
       "POWER_SUPPLY        negative     17\n",
       "                    positive      1\n",
       "SHIPPING            negative      7\n",
       "                    positive      4\n",
       "SOFTWARE            negative     25\n",
       "                    neutral       4\n",
       "                    positive     42\n",
       "SUPPORT             negative    124\n",
       "                    neutral       2\n",
       "                    positive     16\n",
       "UNKNOWN             UNKNOWN     340\n",
       "WARRANTY            negative      4\n",
       "                    neutral       1\n",
       "                    positive      1\n",
       "dtype: int64"
      ]
     },
     "execution_count": 71,
     "metadata": {},
     "output_type": "execute_result"
    }
   ],
   "source": [
    "trainDF.groupby([\"entity\", \"polarity\"]).size()"
   ]
  },
  {
   "cell_type": "code",
   "execution_count": 76,
   "metadata": {
    "collapsed": false
   },
   "outputs": [
    {
     "data": {
      "text/plain": [
       "entity        attribute            \n",
       "BATTERY       GENERAL                    4\n",
       "              MISCELLANEOUS              4\n",
       "              OPERATION_PERFORMANCE     60\n",
       "              QUALITY                    9\n",
       "COMPANY       GENERAL                   69\n",
       "CPU           MISCELLANEOUS              2\n",
       "              OPERATION_PERFORMANCE      7\n",
       "              QUALITY                    2\n",
       "DISPLAY       DESIGN_FEATURES           19\n",
       "              GENERAL                   13\n",
       "              MISCELLANEOUS              1\n",
       "              OPERATION_PERFORMANCE     10\n",
       "              QUALITY                   31\n",
       "              USABILITY                  4\n",
       "FANS_COOLING  DESIGN_FEATURES            1\n",
       "              OPERATION_PERFORMANCE      1\n",
       "              QUALITY                    2\n",
       "GRAPHICS      DESIGN_FEATURES            2\n",
       "              GENERAL                   16\n",
       "              MISCELLANEOUS              2\n",
       "              QUALITY                    4\n",
       "HARDWARE      QUALITY                    3\n",
       "HARD_DISC     DESIGN_FEATURES           12\n",
       "              QUALITY                    9\n",
       "KEYBOARD      DESIGN_FEATURES           18\n",
       "              GENERAL                    9\n",
       "              OPERATION_PERFORMANCE      7\n",
       "              QUALITY                   15\n",
       "              USABILITY                 11\n",
       "LAPTOP        CONNECTIVITY              32\n",
       "                                      ... \n",
       "OS            DESIGN_FEATURES            2\n",
       "              GENERAL                   17\n",
       "              MISCELLANEOUS              2\n",
       "              OPERATION_PERFORMANCE      6\n",
       "              QUALITY                    4\n",
       "              USABILITY                 11\n",
       "PORTS         DESIGN_FEATURES            1\n",
       "              OPERATION_PERFORMANCE      1\n",
       "              QUALITY                    4\n",
       "POWER_SUPPLY  DESIGN_FEATURES            3\n",
       "              MISCELLANEOUS              1\n",
       "              OPERATION_PERFORMANCE      4\n",
       "              QUALITY                   10\n",
       "SHIPPING      PRICE                      3\n",
       "              QUALITY                    8\n",
       "SOFTWARE      DESIGN_FEATURES            6\n",
       "              GENERAL                   23\n",
       "              MISCELLANEOUS             10\n",
       "              OPERATION_PERFORMANCE     14\n",
       "              PRICE                      1\n",
       "              QUALITY                    1\n",
       "              USABILITY                 16\n",
       "SUPPORT       GENERAL                    4\n",
       "              MISCELLANEOUS              3\n",
       "              PRICE                      6\n",
       "              QUALITY                  129\n",
       "UNKNOWN       UNKNOWN                  340\n",
       "WARRANTY      GENERAL                    3\n",
       "              MISCELLANEOUS              1\n",
       "              PRICE                      2\n",
       "dtype: int64"
      ]
     },
     "execution_count": 76,
     "metadata": {},
     "output_type": "execute_result"
    }
   ],
   "source": [
    "trainDF.groupby([\"entity\", \"attribute\"]).size()"
   ]
  },
  {
   "cell_type": "code",
   "execution_count": 77,
   "metadata": {
    "collapsed": false
   },
   "outputs": [
    {
     "data": {
      "text/plain": [
       "82"
      ]
     },
     "execution_count": 77,
     "metadata": {},
     "output_type": "execute_result"
    }
   ],
   "source": [
    "len(trainDF.category.unique())"
   ]
  },
  {
   "cell_type": "code",
   "execution_count": 78,
   "metadata": {
    "collapsed": false
   },
   "outputs": [
    {
     "data": {
      "text/plain": [
       "10"
      ]
     },
     "execution_count": 78,
     "metadata": {},
     "output_type": "execute_result"
    }
   ],
   "source": [
    "len(trainDF.attribute.unique())"
   ]
  },
  {
   "cell_type": "code",
   "execution_count": 74,
   "metadata": {
    "collapsed": false
   },
   "outputs": [
    {
     "data": {
      "text/plain": [
       "23"
      ]
     },
     "execution_count": 74,
     "metadata": {},
     "output_type": "execute_result"
    }
   ],
   "source": [
    "len(trainDF.entity.unique())"
   ]
  },
  {
   "cell_type": "code",
   "execution_count": 79,
   "metadata": {
    "collapsed": true
   },
   "outputs": [],
   "source": [
    "trainDF.to_csv('trainDF_by_category.csv')"
   ]
  },
  {
   "cell_type": "code",
   "execution_count": 80,
   "metadata": {
    "collapsed": true
   },
   "outputs": [],
   "source": [
    "testDF.to_csv('testDF_by_category.csv')"
   ]
  },
  {
   "cell_type": "code",
   "execution_count": 86,
   "metadata": {
    "collapsed": false
   },
   "outputs": [
    {
     "data": {
      "text/plain": [
       "array(['UNKNOWN', 'LAPTOP', 'BATTERY', 'CPU', 'GRAPHICS', 'HARD_DISC',\n",
       "       'OS', 'SUPPORT', 'COMPANY', 'DISPLAY', 'MOUSE', 'SOFTWARE',\n",
       "       'KEYBOARD', 'OPTICAL_DRIVES', 'WARRANTY', 'MULTIMEDIA_DEVICES',\n",
       "       'PORTS', 'POWER_SUPPLY', 'HARDWARE', 'SHIPPING', 'MEMORY',\n",
       "       'MOTHERBOARD', 'FANS_COOLING'], dtype=object)"
      ]
     },
     "execution_count": 86,
     "metadata": {},
     "output_type": "execute_result"
    }
   ],
   "source": [
    "trainDF.entity.unique()"
   ]
  },
  {
   "cell_type": "code",
   "execution_count": 87,
   "metadata": {
    "collapsed": false
   },
   "outputs": [
    {
     "data": {
      "text/plain": [
       "array(['UNKNOWN', 'GENERAL', 'OPERATION_PERFORMANCE', 'DESIGN_FEATURES',\n",
       "       'USABILITY', 'PORTABILITY', 'PRICE', 'QUALITY', 'MISCELLANEOUS',\n",
       "       'CONNECTIVITY'], dtype=object)"
      ]
     },
     "execution_count": 87,
     "metadata": {},
     "output_type": "execute_result"
    }
   ],
   "source": [
    "trainDF.attribute.unique()"
   ]
  },
  {
   "cell_type": "code",
   "execution_count": 88,
   "metadata": {
    "collapsed": false
   },
   "outputs": [
    {
     "data": {
      "text/plain": [
       "array(['UNKNOWN', 'positive', 'negative', 'neutral'], dtype=object)"
      ]
     },
     "execution_count": 88,
     "metadata": {},
     "output_type": "execute_result"
    }
   ],
   "source": [
    "trainDF.polarity.unique()"
   ]
  },
  {
   "cell_type": "code",
   "execution_count": 118,
   "metadata": {
    "collapsed": false
   },
   "outputs": [
    {
     "data": {
      "text/plain": [
       "1462    Fan vents to the side, so no cooling pad neede...\n",
       "1803    The processor went on me, the fan went and the...\n",
       "2204    It had a cooling system malfunction after 10 m...\n",
       "2205    It had a cooling system malfunction after 10 m...\n",
       "Name: text, dtype: object"
      ]
     },
     "execution_count": 118,
     "metadata": {},
     "output_type": "execute_result"
    }
   ],
   "source": [
    "trainDF[(trainDF.entity=='FANS_COOLING')]"
   ]
  }
 ],
 "metadata": {
  "kernelspec": {
   "display_name": "Python 3",
   "language": "python",
   "name": "python3"
  },
  "language_info": {
   "codemirror_mode": {
    "name": "ipython",
    "version": 3
   },
   "file_extension": ".py",
   "mimetype": "text/x-python",
   "name": "python",
   "nbconvert_exporter": "python",
   "pygments_lexer": "ipython3",
   "version": "3.5.1"
  }
 },
 "nbformat": 4,
 "nbformat_minor": 0
}
